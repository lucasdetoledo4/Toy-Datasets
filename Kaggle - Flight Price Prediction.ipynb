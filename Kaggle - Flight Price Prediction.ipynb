{
 "cells": [
  {
   "cell_type": "markdown",
   "metadata": {},
   "source": [
    "# Flight Price Prediction - EasyMyTrip"
   ]
  },
  {
   "cell_type": "markdown",
   "metadata": {},
   "source": [
    "- The goal of this study is train linear regression, multivariable regression and polynomial regression techniques and tune the hyperparamters using GridSearch. \n",
    "\n",
    "- The metric that we will use at this study it's gonna be de MSE (mean squared error) and RMSE (root mean squared error)."
   ]
  },
  {
   "cell_type": "code",
   "execution_count": 615,
   "metadata": {},
   "outputs": [],
   "source": [
    "import pandas as pd\n",
    "import numpy as np\n",
    "import matplotlib.pyplot as plt\n",
    "import seaborn as sns\n",
    "\n",
    "from sklearn.model_selection import train_test_split\n",
    "from sklearn.compose import make_column_transformer, TransformedTargetRegressor\n",
    "from sklearn.metrics import mean_absolute_percentage_error\n",
    "from sklearn.pipeline import make_pipeline\n",
    "from sklearn.linear_model import LinearRegression, Ridge\n",
    "from sklearn.preprocessing import StandardScaler, OneHotEncoder, PolynomialFeatures\n",
    "\n",
    "import operator"
   ]
  },
  {
   "cell_type": "markdown",
   "metadata": {},
   "source": [
    "## Loading the data"
   ]
  },
  {
   "cell_type": "code",
   "execution_count": 616,
   "metadata": {},
   "outputs": [],
   "source": [
    "df = pd.read_csv('Clean_Dataset.csv')"
   ]
  },
  {
   "cell_type": "code",
   "execution_count": 617,
   "metadata": {},
   "outputs": [
    {
     "data": {
      "text/html": [
       "<div>\n",
       "<style scoped>\n",
       "    .dataframe tbody tr th:only-of-type {\n",
       "        vertical-align: middle;\n",
       "    }\n",
       "\n",
       "    .dataframe tbody tr th {\n",
       "        vertical-align: top;\n",
       "    }\n",
       "\n",
       "    .dataframe thead th {\n",
       "        text-align: right;\n",
       "    }\n",
       "</style>\n",
       "<table border=\"1\" class=\"dataframe\">\n",
       "  <thead>\n",
       "    <tr style=\"text-align: right;\">\n",
       "      <th></th>\n",
       "      <th>Unnamed: 0</th>\n",
       "      <th>airline</th>\n",
       "      <th>flight</th>\n",
       "      <th>source_city</th>\n",
       "      <th>departure_time</th>\n",
       "      <th>stops</th>\n",
       "      <th>arrival_time</th>\n",
       "      <th>destination_city</th>\n",
       "      <th>class</th>\n",
       "      <th>duration</th>\n",
       "      <th>days_left</th>\n",
       "      <th>price</th>\n",
       "    </tr>\n",
       "  </thead>\n",
       "  <tbody>\n",
       "    <tr>\n",
       "      <th>0</th>\n",
       "      <td>0</td>\n",
       "      <td>SpiceJet</td>\n",
       "      <td>SG-8709</td>\n",
       "      <td>Delhi</td>\n",
       "      <td>Evening</td>\n",
       "      <td>zero</td>\n",
       "      <td>Night</td>\n",
       "      <td>Mumbai</td>\n",
       "      <td>Economy</td>\n",
       "      <td>2.17</td>\n",
       "      <td>1</td>\n",
       "      <td>5953</td>\n",
       "    </tr>\n",
       "    <tr>\n",
       "      <th>1</th>\n",
       "      <td>1</td>\n",
       "      <td>SpiceJet</td>\n",
       "      <td>SG-8157</td>\n",
       "      <td>Delhi</td>\n",
       "      <td>Early_Morning</td>\n",
       "      <td>zero</td>\n",
       "      <td>Morning</td>\n",
       "      <td>Mumbai</td>\n",
       "      <td>Economy</td>\n",
       "      <td>2.33</td>\n",
       "      <td>1</td>\n",
       "      <td>5953</td>\n",
       "    </tr>\n",
       "    <tr>\n",
       "      <th>2</th>\n",
       "      <td>2</td>\n",
       "      <td>AirAsia</td>\n",
       "      <td>I5-764</td>\n",
       "      <td>Delhi</td>\n",
       "      <td>Early_Morning</td>\n",
       "      <td>zero</td>\n",
       "      <td>Early_Morning</td>\n",
       "      <td>Mumbai</td>\n",
       "      <td>Economy</td>\n",
       "      <td>2.17</td>\n",
       "      <td>1</td>\n",
       "      <td>5956</td>\n",
       "    </tr>\n",
       "    <tr>\n",
       "      <th>3</th>\n",
       "      <td>3</td>\n",
       "      <td>Vistara</td>\n",
       "      <td>UK-995</td>\n",
       "      <td>Delhi</td>\n",
       "      <td>Morning</td>\n",
       "      <td>zero</td>\n",
       "      <td>Afternoon</td>\n",
       "      <td>Mumbai</td>\n",
       "      <td>Economy</td>\n",
       "      <td>2.25</td>\n",
       "      <td>1</td>\n",
       "      <td>5955</td>\n",
       "    </tr>\n",
       "    <tr>\n",
       "      <th>4</th>\n",
       "      <td>4</td>\n",
       "      <td>Vistara</td>\n",
       "      <td>UK-963</td>\n",
       "      <td>Delhi</td>\n",
       "      <td>Morning</td>\n",
       "      <td>zero</td>\n",
       "      <td>Morning</td>\n",
       "      <td>Mumbai</td>\n",
       "      <td>Economy</td>\n",
       "      <td>2.33</td>\n",
       "      <td>1</td>\n",
       "      <td>5955</td>\n",
       "    </tr>\n",
       "    <tr>\n",
       "      <th>5</th>\n",
       "      <td>5</td>\n",
       "      <td>Vistara</td>\n",
       "      <td>UK-945</td>\n",
       "      <td>Delhi</td>\n",
       "      <td>Morning</td>\n",
       "      <td>zero</td>\n",
       "      <td>Afternoon</td>\n",
       "      <td>Mumbai</td>\n",
       "      <td>Economy</td>\n",
       "      <td>2.33</td>\n",
       "      <td>1</td>\n",
       "      <td>5955</td>\n",
       "    </tr>\n",
       "    <tr>\n",
       "      <th>6</th>\n",
       "      <td>6</td>\n",
       "      <td>Vistara</td>\n",
       "      <td>UK-927</td>\n",
       "      <td>Delhi</td>\n",
       "      <td>Morning</td>\n",
       "      <td>zero</td>\n",
       "      <td>Morning</td>\n",
       "      <td>Mumbai</td>\n",
       "      <td>Economy</td>\n",
       "      <td>2.08</td>\n",
       "      <td>1</td>\n",
       "      <td>6060</td>\n",
       "    </tr>\n",
       "    <tr>\n",
       "      <th>7</th>\n",
       "      <td>7</td>\n",
       "      <td>Vistara</td>\n",
       "      <td>UK-951</td>\n",
       "      <td>Delhi</td>\n",
       "      <td>Afternoon</td>\n",
       "      <td>zero</td>\n",
       "      <td>Evening</td>\n",
       "      <td>Mumbai</td>\n",
       "      <td>Economy</td>\n",
       "      <td>2.17</td>\n",
       "      <td>1</td>\n",
       "      <td>6060</td>\n",
       "    </tr>\n",
       "    <tr>\n",
       "      <th>8</th>\n",
       "      <td>8</td>\n",
       "      <td>GO_FIRST</td>\n",
       "      <td>G8-334</td>\n",
       "      <td>Delhi</td>\n",
       "      <td>Early_Morning</td>\n",
       "      <td>zero</td>\n",
       "      <td>Morning</td>\n",
       "      <td>Mumbai</td>\n",
       "      <td>Economy</td>\n",
       "      <td>2.17</td>\n",
       "      <td>1</td>\n",
       "      <td>5954</td>\n",
       "    </tr>\n",
       "    <tr>\n",
       "      <th>9</th>\n",
       "      <td>9</td>\n",
       "      <td>GO_FIRST</td>\n",
       "      <td>G8-336</td>\n",
       "      <td>Delhi</td>\n",
       "      <td>Afternoon</td>\n",
       "      <td>zero</td>\n",
       "      <td>Evening</td>\n",
       "      <td>Mumbai</td>\n",
       "      <td>Economy</td>\n",
       "      <td>2.25</td>\n",
       "      <td>1</td>\n",
       "      <td>5954</td>\n",
       "    </tr>\n",
       "  </tbody>\n",
       "</table>\n",
       "</div>"
      ],
      "text/plain": [
       "   Unnamed: 0   airline   flight source_city departure_time stops  \\\n",
       "0           0  SpiceJet  SG-8709       Delhi        Evening  zero   \n",
       "1           1  SpiceJet  SG-8157       Delhi  Early_Morning  zero   \n",
       "2           2   AirAsia   I5-764       Delhi  Early_Morning  zero   \n",
       "3           3   Vistara   UK-995       Delhi        Morning  zero   \n",
       "4           4   Vistara   UK-963       Delhi        Morning  zero   \n",
       "5           5   Vistara   UK-945       Delhi        Morning  zero   \n",
       "6           6   Vistara   UK-927       Delhi        Morning  zero   \n",
       "7           7   Vistara   UK-951       Delhi      Afternoon  zero   \n",
       "8           8  GO_FIRST   G8-334       Delhi  Early_Morning  zero   \n",
       "9           9  GO_FIRST   G8-336       Delhi      Afternoon  zero   \n",
       "\n",
       "    arrival_time destination_city    class  duration  days_left  price  \n",
       "0          Night           Mumbai  Economy      2.17          1   5953  \n",
       "1        Morning           Mumbai  Economy      2.33          1   5953  \n",
       "2  Early_Morning           Mumbai  Economy      2.17          1   5956  \n",
       "3      Afternoon           Mumbai  Economy      2.25          1   5955  \n",
       "4        Morning           Mumbai  Economy      2.33          1   5955  \n",
       "5      Afternoon           Mumbai  Economy      2.33          1   5955  \n",
       "6        Morning           Mumbai  Economy      2.08          1   6060  \n",
       "7        Evening           Mumbai  Economy      2.17          1   6060  \n",
       "8        Morning           Mumbai  Economy      2.17          1   5954  \n",
       "9        Evening           Mumbai  Economy      2.25          1   5954  "
      ]
     },
     "execution_count": 617,
     "metadata": {},
     "output_type": "execute_result"
    }
   ],
   "source": [
    "df.head(10)"
   ]
  },
  {
   "cell_type": "code",
   "execution_count": 618,
   "metadata": {},
   "outputs": [],
   "source": [
    "# Dropping useless columns from dataframe\n",
    "def clean(dataframe, columns):\n",
    "    return dataframe.drop(columns, axis=1)\n",
    "\n",
    "df = clean(df, ['Unnamed: 0', 'flight'])"
   ]
  },
  {
   "cell_type": "code",
   "execution_count": 619,
   "metadata": {},
   "outputs": [
    {
     "data": {
      "text/html": [
       "<div>\n",
       "<style scoped>\n",
       "    .dataframe tbody tr th:only-of-type {\n",
       "        vertical-align: middle;\n",
       "    }\n",
       "\n",
       "    .dataframe tbody tr th {\n",
       "        vertical-align: top;\n",
       "    }\n",
       "\n",
       "    .dataframe thead th {\n",
       "        text-align: right;\n",
       "    }\n",
       "</style>\n",
       "<table border=\"1\" class=\"dataframe\">\n",
       "  <thead>\n",
       "    <tr style=\"text-align: right;\">\n",
       "      <th></th>\n",
       "      <th>airline</th>\n",
       "      <th>source_city</th>\n",
       "      <th>departure_time</th>\n",
       "      <th>stops</th>\n",
       "      <th>arrival_time</th>\n",
       "      <th>destination_city</th>\n",
       "      <th>class</th>\n",
       "      <th>duration</th>\n",
       "      <th>days_left</th>\n",
       "      <th>price</th>\n",
       "    </tr>\n",
       "  </thead>\n",
       "  <tbody>\n",
       "    <tr>\n",
       "      <th>0</th>\n",
       "      <td>SpiceJet</td>\n",
       "      <td>Delhi</td>\n",
       "      <td>Evening</td>\n",
       "      <td>zero</td>\n",
       "      <td>Night</td>\n",
       "      <td>Mumbai</td>\n",
       "      <td>Economy</td>\n",
       "      <td>2.17</td>\n",
       "      <td>1</td>\n",
       "      <td>5953</td>\n",
       "    </tr>\n",
       "    <tr>\n",
       "      <th>1</th>\n",
       "      <td>SpiceJet</td>\n",
       "      <td>Delhi</td>\n",
       "      <td>Early_Morning</td>\n",
       "      <td>zero</td>\n",
       "      <td>Morning</td>\n",
       "      <td>Mumbai</td>\n",
       "      <td>Economy</td>\n",
       "      <td>2.33</td>\n",
       "      <td>1</td>\n",
       "      <td>5953</td>\n",
       "    </tr>\n",
       "    <tr>\n",
       "      <th>2</th>\n",
       "      <td>AirAsia</td>\n",
       "      <td>Delhi</td>\n",
       "      <td>Early_Morning</td>\n",
       "      <td>zero</td>\n",
       "      <td>Early_Morning</td>\n",
       "      <td>Mumbai</td>\n",
       "      <td>Economy</td>\n",
       "      <td>2.17</td>\n",
       "      <td>1</td>\n",
       "      <td>5956</td>\n",
       "    </tr>\n",
       "    <tr>\n",
       "      <th>3</th>\n",
       "      <td>Vistara</td>\n",
       "      <td>Delhi</td>\n",
       "      <td>Morning</td>\n",
       "      <td>zero</td>\n",
       "      <td>Afternoon</td>\n",
       "      <td>Mumbai</td>\n",
       "      <td>Economy</td>\n",
       "      <td>2.25</td>\n",
       "      <td>1</td>\n",
       "      <td>5955</td>\n",
       "    </tr>\n",
       "    <tr>\n",
       "      <th>4</th>\n",
       "      <td>Vistara</td>\n",
       "      <td>Delhi</td>\n",
       "      <td>Morning</td>\n",
       "      <td>zero</td>\n",
       "      <td>Morning</td>\n",
       "      <td>Mumbai</td>\n",
       "      <td>Economy</td>\n",
       "      <td>2.33</td>\n",
       "      <td>1</td>\n",
       "      <td>5955</td>\n",
       "    </tr>\n",
       "  </tbody>\n",
       "</table>\n",
       "</div>"
      ],
      "text/plain": [
       "    airline source_city departure_time stops   arrival_time destination_city  \\\n",
       "0  SpiceJet       Delhi        Evening  zero          Night           Mumbai   \n",
       "1  SpiceJet       Delhi  Early_Morning  zero        Morning           Mumbai   \n",
       "2   AirAsia       Delhi  Early_Morning  zero  Early_Morning           Mumbai   \n",
       "3   Vistara       Delhi        Morning  zero      Afternoon           Mumbai   \n",
       "4   Vistara       Delhi        Morning  zero        Morning           Mumbai   \n",
       "\n",
       "     class  duration  days_left  price  \n",
       "0  Economy      2.17          1   5953  \n",
       "1  Economy      2.33          1   5953  \n",
       "2  Economy      2.17          1   5956  \n",
       "3  Economy      2.25          1   5955  \n",
       "4  Economy      2.33          1   5955  "
      ]
     },
     "execution_count": 619,
     "metadata": {},
     "output_type": "execute_result"
    }
   ],
   "source": [
    "df.head()"
   ]
  },
  {
   "cell_type": "code",
   "execution_count": 620,
   "metadata": {},
   "outputs": [
    {
     "name": "stdout",
     "output_type": "stream",
     "text": [
      "<class 'pandas.core.frame.DataFrame'>\n",
      "RangeIndex: 300153 entries, 0 to 300152\n",
      "Data columns (total 10 columns):\n",
      " #   Column            Non-Null Count   Dtype  \n",
      "---  ------            --------------   -----  \n",
      " 0   airline           300153 non-null  object \n",
      " 1   source_city       300153 non-null  object \n",
      " 2   departure_time    300153 non-null  object \n",
      " 3   stops             300153 non-null  object \n",
      " 4   arrival_time      300153 non-null  object \n",
      " 5   destination_city  300153 non-null  object \n",
      " 6   class             300153 non-null  object \n",
      " 7   duration          300153 non-null  float64\n",
      " 8   days_left         300153 non-null  int64  \n",
      " 9   price             300153 non-null  int64  \n",
      "dtypes: float64(1), int64(2), object(7)\n",
      "memory usage: 22.9+ MB\n"
     ]
    }
   ],
   "source": [
    "df.info()"
   ]
  },
  {
   "cell_type": "markdown",
   "metadata": {},
   "source": [
    "- Categorical features (7): ['airline', 'source_city', 'departure_time', 'stops', 'arrival_time', 'destination_city', 'class']\n",
    "\n",
    "- Numerical features (3): ['duration', 'days_left', 'price']"
   ]
  },
  {
   "cell_type": "code",
   "execution_count": 621,
   "metadata": {},
   "outputs": [
    {
     "data": {
      "text/html": [
       "<div>\n",
       "<style scoped>\n",
       "    .dataframe tbody tr th:only-of-type {\n",
       "        vertical-align: middle;\n",
       "    }\n",
       "\n",
       "    .dataframe tbody tr th {\n",
       "        vertical-align: top;\n",
       "    }\n",
       "\n",
       "    .dataframe thead th {\n",
       "        text-align: right;\n",
       "    }\n",
       "</style>\n",
       "<table border=\"1\" class=\"dataframe\">\n",
       "  <thead>\n",
       "    <tr style=\"text-align: right;\">\n",
       "      <th></th>\n",
       "      <th>duration</th>\n",
       "      <th>days_left</th>\n",
       "      <th>price</th>\n",
       "    </tr>\n",
       "  </thead>\n",
       "  <tbody>\n",
       "    <tr>\n",
       "      <th>count</th>\n",
       "      <td>300153.000000</td>\n",
       "      <td>300153.000000</td>\n",
       "      <td>300153.000000</td>\n",
       "    </tr>\n",
       "    <tr>\n",
       "      <th>mean</th>\n",
       "      <td>12.221021</td>\n",
       "      <td>26.004751</td>\n",
       "      <td>20889.660523</td>\n",
       "    </tr>\n",
       "    <tr>\n",
       "      <th>std</th>\n",
       "      <td>7.191997</td>\n",
       "      <td>13.561004</td>\n",
       "      <td>22697.767366</td>\n",
       "    </tr>\n",
       "    <tr>\n",
       "      <th>min</th>\n",
       "      <td>0.830000</td>\n",
       "      <td>1.000000</td>\n",
       "      <td>1105.000000</td>\n",
       "    </tr>\n",
       "    <tr>\n",
       "      <th>25%</th>\n",
       "      <td>6.830000</td>\n",
       "      <td>15.000000</td>\n",
       "      <td>4783.000000</td>\n",
       "    </tr>\n",
       "    <tr>\n",
       "      <th>50%</th>\n",
       "      <td>11.250000</td>\n",
       "      <td>26.000000</td>\n",
       "      <td>7425.000000</td>\n",
       "    </tr>\n",
       "    <tr>\n",
       "      <th>75%</th>\n",
       "      <td>16.170000</td>\n",
       "      <td>38.000000</td>\n",
       "      <td>42521.000000</td>\n",
       "    </tr>\n",
       "    <tr>\n",
       "      <th>max</th>\n",
       "      <td>49.830000</td>\n",
       "      <td>49.000000</td>\n",
       "      <td>123071.000000</td>\n",
       "    </tr>\n",
       "  </tbody>\n",
       "</table>\n",
       "</div>"
      ],
      "text/plain": [
       "            duration      days_left          price\n",
       "count  300153.000000  300153.000000  300153.000000\n",
       "mean       12.221021      26.004751   20889.660523\n",
       "std         7.191997      13.561004   22697.767366\n",
       "min         0.830000       1.000000    1105.000000\n",
       "25%         6.830000      15.000000    4783.000000\n",
       "50%        11.250000      26.000000    7425.000000\n",
       "75%        16.170000      38.000000   42521.000000\n",
       "max        49.830000      49.000000  123071.000000"
      ]
     },
     "execution_count": 621,
     "metadata": {},
     "output_type": "execute_result"
    }
   ],
   "source": [
    "df.describe()"
   ]
  },
  {
   "cell_type": "markdown",
   "metadata": {},
   "source": [
    "- Standard deviation from all columns is too high, even more at the price column.\n",
    "\n",
    "- The dataframe has a lot of outliers (like a 49 hours flight and a flight price of $123071).\n"
   ]
  },
  {
   "cell_type": "markdown",
   "metadata": {},
   "source": [
    "## Exploratory Data Analysis"
   ]
  },
  {
   "cell_type": "markdown",
   "metadata": {},
   "source": [
    "### Numerical variables distribuition (duration, days_left, price)"
   ]
  },
  {
   "cell_type": "code",
   "execution_count": 622,
   "metadata": {},
   "outputs": [
    {
     "data": {
      "text/plain": [
       "array([[<AxesSubplot:title={'center':'duration'}>],\n",
       "       [<AxesSubplot:title={'center':'days_left'}>],\n",
       "       [<AxesSubplot:title={'center':'price'}>]], dtype=object)"
      ]
     },
     "execution_count": 622,
     "metadata": {},
     "output_type": "execute_result"
    },
    {
     "data": {
      "image/png": "[encoded data removed]",
      "text/plain": [
       "<Figure size 1152x648 with 3 Axes>"
      ]
     },
     "metadata": {
      "needs_background": "light"
     },
     "output_type": "display_data"
    }
   ],
   "source": [
    "df.hist(bins='auto', figsize=(16,9), layout=(3,1))"
   ]
  },
  {
   "cell_type": "markdown",
   "metadata": {},
   "source": [
    "### Categorical variables distribuition (airline, source_city, departure_time, stops, arrival_time, destination_city, class)"
   ]
  },
  {
   "cell_type": "code",
   "execution_count": 623,
   "metadata": {},
   "outputs": [
    {
     "data": {
      "text/html": [
       "<div>\n",
       "<style scoped>\n",
       "    .dataframe tbody tr th:only-of-type {\n",
       "        vertical-align: middle;\n",
       "    }\n",
       "\n",
       "    .dataframe tbody tr th {\n",
       "        vertical-align: top;\n",
       "    }\n",
       "\n",
       "    .dataframe thead th {\n",
       "        text-align: right;\n",
       "    }\n",
       "</style>\n",
       "<table border=\"1\" class=\"dataframe\">\n",
       "  <thead>\n",
       "    <tr style=\"text-align: right;\">\n",
       "      <th></th>\n",
       "      <th>airline</th>\n",
       "      <th>source_city</th>\n",
       "      <th>departure_time</th>\n",
       "      <th>stops</th>\n",
       "      <th>arrival_time</th>\n",
       "      <th>destination_city</th>\n",
       "      <th>class</th>\n",
       "    </tr>\n",
       "  </thead>\n",
       "  <tbody>\n",
       "    <tr>\n",
       "      <th>count</th>\n",
       "      <td>300153</td>\n",
       "      <td>300153</td>\n",
       "      <td>300153</td>\n",
       "      <td>300153</td>\n",
       "      <td>300153</td>\n",
       "      <td>300153</td>\n",
       "      <td>300153</td>\n",
       "    </tr>\n",
       "    <tr>\n",
       "      <th>unique</th>\n",
       "      <td>6</td>\n",
       "      <td>6</td>\n",
       "      <td>6</td>\n",
       "      <td>3</td>\n",
       "      <td>6</td>\n",
       "      <td>6</td>\n",
       "      <td>2</td>\n",
       "    </tr>\n",
       "    <tr>\n",
       "      <th>top</th>\n",
       "      <td>Vistara</td>\n",
       "      <td>Delhi</td>\n",
       "      <td>Morning</td>\n",
       "      <td>one</td>\n",
       "      <td>Night</td>\n",
       "      <td>Mumbai</td>\n",
       "      <td>Economy</td>\n",
       "    </tr>\n",
       "    <tr>\n",
       "      <th>freq</th>\n",
       "      <td>127859</td>\n",
       "      <td>61343</td>\n",
       "      <td>71146</td>\n",
       "      <td>250863</td>\n",
       "      <td>91538</td>\n",
       "      <td>59097</td>\n",
       "      <td>206666</td>\n",
       "    </tr>\n",
       "  </tbody>\n",
       "</table>\n",
       "</div>"
      ],
      "text/plain": [
       "        airline source_city departure_time   stops arrival_time  \\\n",
       "count    300153      300153         300153  300153       300153   \n",
       "unique        6           6              6       3            6   \n",
       "top     Vistara       Delhi        Morning     one        Night   \n",
       "freq     127859       61343          71146  250863        91538   \n",
       "\n",
       "       destination_city    class  \n",
       "count            300153   300153  \n",
       "unique                6        2  \n",
       "top              Mumbai  Economy  \n",
       "freq              59097   206666  "
      ]
     },
     "execution_count": 623,
     "metadata": {},
     "output_type": "execute_result"
    }
   ],
   "source": [
    "# Categorical variables dataframe\n",
    "df_cat = df.iloc[:,0:7]\n",
    "df_cat.describe()"
   ]
  },
  {
   "cell_type": "code",
   "execution_count": 624,
   "metadata": {},
   "outputs": [
    {
     "data": {
      "image/png": "[encoded data removed]",
      "text/plain": [
       "<Figure size 720x432 with 1 Axes>"
      ]
     },
     "metadata": {
      "needs_background": "light"
     },
     "output_type": "display_data"
    },
    {
     "data": {
      "image/png": "[encoded data removed]",
      "text/plain": [
       "<Figure size 720x432 with 1 Axes>"
      ]
     },
     "metadata": {
      "needs_background": "light"
     },
     "output_type": "display_data"
    },
    {
     "data": {
      "image/png": "[encoded data removed]",
      "text/plain": [
       "<Figure size 720x432 with 1 Axes>"
      ]
     },
     "metadata": {
      "needs_background": "light"
     },
     "output_type": "display_data"
    },
    {
     "data": {
      "image/png": "[encoded data removed]",
      "text/plain": [
       "<Figure size 720x432 with 1 Axes>"
      ]
     },
     "metadata": {
      "needs_background": "light"
     },
     "output_type": "display_data"
    },
    {
     "data": {
      "image/png": "[encoded data removed]",
      "text/plain": [
       "<Figure size 720x432 with 1 Axes>"
      ]
     },
     "metadata": {
      "needs_background": "light"
     },
     "output_type": "display_data"
    },
    {
     "data": {
      "image/png": "[encoded data removed]",
      "text/plain": [
       "<Figure size 720x432 with 1 Axes>"
      ]
     },
     "metadata": {
      "needs_background": "light"
     },
     "output_type": "display_data"
    },
    {
     "data": {
      "image/png": "[encoded data removed]",
      "text/plain": [
       "<Figure size 720x432 with 1 Axes>"
      ]
     },
     "metadata": {
      "needs_background": "light"
     },
     "output_type": "display_data"
    }
   ],
   "source": [
    "for i in df_cat:\n",
    "    df_cat[i].value_counts().plot(kind='bar', figsize=(10,6))\n",
    "    plt.title(i)\n",
    "    plt.show()"
   ]
  },
  {
   "cell_type": "markdown",
   "metadata": {},
   "source": [
    "### Dealing with duplicated data"
   ]
  },
  {
   "cell_type": "code",
   "execution_count": 625,
   "metadata": {},
   "outputs": [
    {
     "data": {
      "text/html": [
       "<div>\n",
       "<style scoped>\n",
       "    .dataframe tbody tr th:only-of-type {\n",
       "        vertical-align: middle;\n",
       "    }\n",
       "\n",
       "    .dataframe tbody tr th {\n",
       "        vertical-align: top;\n",
       "    }\n",
       "\n",
       "    .dataframe thead th {\n",
       "        text-align: right;\n",
       "    }\n",
       "</style>\n",
       "<table border=\"1\" class=\"dataframe\">\n",
       "  <thead>\n",
       "    <tr style=\"text-align: right;\">\n",
       "      <th></th>\n",
       "      <th>airline</th>\n",
       "      <th>source_city</th>\n",
       "      <th>departure_time</th>\n",
       "      <th>stops</th>\n",
       "      <th>arrival_time</th>\n",
       "      <th>destination_city</th>\n",
       "      <th>class</th>\n",
       "      <th>duration</th>\n",
       "      <th>days_left</th>\n",
       "      <th>price</th>\n",
       "    </tr>\n",
       "  </thead>\n",
       "  <tbody>\n",
       "    <tr>\n",
       "      <th>10</th>\n",
       "      <td>GO_FIRST</td>\n",
       "      <td>Delhi</td>\n",
       "      <td>Afternoon</td>\n",
       "      <td>zero</td>\n",
       "      <td>Evening</td>\n",
       "      <td>Mumbai</td>\n",
       "      <td>Economy</td>\n",
       "      <td>2.25</td>\n",
       "      <td>1</td>\n",
       "      <td>5954</td>\n",
       "    </tr>\n",
       "    <tr>\n",
       "      <th>155</th>\n",
       "      <td>Vistara</td>\n",
       "      <td>Delhi</td>\n",
       "      <td>Afternoon</td>\n",
       "      <td>zero</td>\n",
       "      <td>Evening</td>\n",
       "      <td>Mumbai</td>\n",
       "      <td>Economy</td>\n",
       "      <td>2.17</td>\n",
       "      <td>2</td>\n",
       "      <td>7530</td>\n",
       "    </tr>\n",
       "    <tr>\n",
       "      <th>401</th>\n",
       "      <td>SpiceJet</td>\n",
       "      <td>Delhi</td>\n",
       "      <td>Early_Morning</td>\n",
       "      <td>zero</td>\n",
       "      <td>Morning</td>\n",
       "      <td>Mumbai</td>\n",
       "      <td>Economy</td>\n",
       "      <td>2.33</td>\n",
       "      <td>4</td>\n",
       "      <td>5953</td>\n",
       "    </tr>\n",
       "    <tr>\n",
       "      <th>403</th>\n",
       "      <td>SpiceJet</td>\n",
       "      <td>Delhi</td>\n",
       "      <td>Evening</td>\n",
       "      <td>zero</td>\n",
       "      <td>Night</td>\n",
       "      <td>Mumbai</td>\n",
       "      <td>Economy</td>\n",
       "      <td>2.33</td>\n",
       "      <td>4</td>\n",
       "      <td>5953</td>\n",
       "    </tr>\n",
       "    <tr>\n",
       "      <th>405</th>\n",
       "      <td>Vistara</td>\n",
       "      <td>Delhi</td>\n",
       "      <td>Afternoon</td>\n",
       "      <td>zero</td>\n",
       "      <td>Evening</td>\n",
       "      <td>Mumbai</td>\n",
       "      <td>Economy</td>\n",
       "      <td>2.17</td>\n",
       "      <td>4</td>\n",
       "      <td>5955</td>\n",
       "    </tr>\n",
       "    <tr>\n",
       "      <th>...</th>\n",
       "      <td>...</td>\n",
       "      <td>...</td>\n",
       "      <td>...</td>\n",
       "      <td>...</td>\n",
       "      <td>...</td>\n",
       "      <td>...</td>\n",
       "      <td>...</td>\n",
       "      <td>...</td>\n",
       "      <td>...</td>\n",
       "      <td>...</td>\n",
       "    </tr>\n",
       "    <tr>\n",
       "      <th>254827</th>\n",
       "      <td>Vistara</td>\n",
       "      <td>Bangalore</td>\n",
       "      <td>Evening</td>\n",
       "      <td>one</td>\n",
       "      <td>Morning</td>\n",
       "      <td>Kolkata</td>\n",
       "      <td>Business</td>\n",
       "      <td>14.75</td>\n",
       "      <td>32</td>\n",
       "      <td>60508</td>\n",
       "    </tr>\n",
       "    <tr>\n",
       "      <th>254890</th>\n",
       "      <td>Vistara</td>\n",
       "      <td>Bangalore</td>\n",
       "      <td>Evening</td>\n",
       "      <td>one</td>\n",
       "      <td>Morning</td>\n",
       "      <td>Kolkata</td>\n",
       "      <td>Business</td>\n",
       "      <td>14.75</td>\n",
       "      <td>33</td>\n",
       "      <td>60508</td>\n",
       "    </tr>\n",
       "    <tr>\n",
       "      <th>255218</th>\n",
       "      <td>Vistara</td>\n",
       "      <td>Bangalore</td>\n",
       "      <td>Evening</td>\n",
       "      <td>one</td>\n",
       "      <td>Morning</td>\n",
       "      <td>Kolkata</td>\n",
       "      <td>Business</td>\n",
       "      <td>14.75</td>\n",
       "      <td>38</td>\n",
       "      <td>60508</td>\n",
       "    </tr>\n",
       "    <tr>\n",
       "      <th>255291</th>\n",
       "      <td>Vistara</td>\n",
       "      <td>Bangalore</td>\n",
       "      <td>Evening</td>\n",
       "      <td>one</td>\n",
       "      <td>Morning</td>\n",
       "      <td>Kolkata</td>\n",
       "      <td>Business</td>\n",
       "      <td>14.75</td>\n",
       "      <td>39</td>\n",
       "      <td>60508</td>\n",
       "    </tr>\n",
       "    <tr>\n",
       "      <th>255354</th>\n",
       "      <td>Vistara</td>\n",
       "      <td>Bangalore</td>\n",
       "      <td>Evening</td>\n",
       "      <td>one</td>\n",
       "      <td>Morning</td>\n",
       "      <td>Kolkata</td>\n",
       "      <td>Business</td>\n",
       "      <td>14.75</td>\n",
       "      <td>40</td>\n",
       "      <td>60508</td>\n",
       "    </tr>\n",
       "  </tbody>\n",
       "</table>\n",
       "<p>2213 rows × 10 columns</p>\n",
       "</div>"
      ],
      "text/plain": [
       "         airline source_city departure_time stops arrival_time  \\\n",
       "10      GO_FIRST       Delhi      Afternoon  zero      Evening   \n",
       "155      Vistara       Delhi      Afternoon  zero      Evening   \n",
       "401     SpiceJet       Delhi  Early_Morning  zero      Morning   \n",
       "403     SpiceJet       Delhi        Evening  zero        Night   \n",
       "405      Vistara       Delhi      Afternoon  zero      Evening   \n",
       "...          ...         ...            ...   ...          ...   \n",
       "254827   Vistara   Bangalore        Evening   one      Morning   \n",
       "254890   Vistara   Bangalore        Evening   one      Morning   \n",
       "255218   Vistara   Bangalore        Evening   one      Morning   \n",
       "255291   Vistara   Bangalore        Evening   one      Morning   \n",
       "255354   Vistara   Bangalore        Evening   one      Morning   \n",
       "\n",
       "       destination_city     class  duration  days_left  price  \n",
       "10               Mumbai   Economy      2.25          1   5954  \n",
       "155              Mumbai   Economy      2.17          2   7530  \n",
       "401              Mumbai   Economy      2.33          4   5953  \n",
       "403              Mumbai   Economy      2.33          4   5953  \n",
       "405              Mumbai   Economy      2.17          4   5955  \n",
       "...                 ...       ...       ...        ...    ...  \n",
       "254827          Kolkata  Business     14.75         32  60508  \n",
       "254890          Kolkata  Business     14.75         33  60508  \n",
       "255218          Kolkata  Business     14.75         38  60508  \n",
       "255291          Kolkata  Business     14.75         39  60508  \n",
       "255354          Kolkata  Business     14.75         40  60508  \n",
       "\n",
       "[2213 rows x 10 columns]"
      ]
     },
     "execution_count": 625,
     "metadata": {},
     "output_type": "execute_result"
    }
   ],
   "source": [
    "# Dataframe with duplicated data\n",
    "df[df.duplicated()]"
   ]
  },
  {
   "cell_type": "code",
   "execution_count": 626,
   "metadata": {},
   "outputs": [],
   "source": [
    "# Dropping duplicated data\n",
    "df.drop_duplicates(keep='first', inplace=True)"
   ]
  },
  {
   "cell_type": "markdown",
   "metadata": {},
   "source": [
    "### Dealing with missing data"
   ]
  },
  {
   "cell_type": "code",
   "execution_count": 627,
   "metadata": {},
   "outputs": [
    {
     "data": {
      "text/plain": [
       "airline             0.0\n",
       "source_city         0.0\n",
       "departure_time      0.0\n",
       "stops               0.0\n",
       "arrival_time        0.0\n",
       "destination_city    0.0\n",
       "class               0.0\n",
       "duration            0.0\n",
       "days_left           0.0\n",
       "price               0.0\n",
       "dtype: float64"
      ]
     },
     "execution_count": 627,
     "metadata": {},
     "output_type": "execute_result"
    }
   ],
   "source": [
    "df.isna().mean() "
   ]
  },
  {
   "cell_type": "markdown",
   "metadata": {},
   "source": [
    "- The dataframe does not have any missing data."
   ]
  },
  {
   "cell_type": "markdown",
   "metadata": {},
   "source": [
    "#### Notes:\n",
    "- Duplicated data portion is tiny compared to the rest of the dataframe.\n",
    "\n",
    "- We can observe that the company who appears the most at flights it's Vistara and AirIndia, respectively, which is a indicative from the portion of the market share that they represent.\n",
    "\n",
    "- Flights with 2 stops or more are much more numerous than flights without stops.\n",
    "\n",
    "- Flights from economic class are double than flights from business class."
   ]
  },
  {
   "cell_type": "markdown",
   "metadata": {},
   "source": [
    "## Splitting the dataframe into training, validation and test"
   ]
  },
  {
   "cell_type": "code",
   "execution_count": 628,
   "metadata": {},
   "outputs": [],
   "source": [
    "price_cat = pd.qcut(df['price'], q=10)\n",
    "\n",
    "# Splitting the dataframes that we gonna use to train, validate and test\n",
    "df_train, df_test = train_test_split(df, test_size=0.2, stratify=price_cat, random_state=42)\n",
    "df_train, df_val = train_test_split(df_train, test_size=0.25, random_state=42)\n",
    "del df"
   ]
  },
  {
   "cell_type": "code",
   "execution_count": 629,
   "metadata": {},
   "outputs": [],
   "source": [
    "#Separando os dados de treinamento, validação e teste\n",
    "X_train = df_train.iloc[:, :-1]\n",
    "y_train = df_train.iloc[:,-1]\n",
    "\n",
    "X_val = df_val.iloc[:, :-1]\n",
    "y_val = df_val.iloc[:,-1]\n",
    "\n",
    "X_test = df_test.iloc[:, :-1]\n",
    "y_test = df_test.iloc[:,-1]"
   ]
  },
  {
   "cell_type": "code",
   "execution_count": 630,
   "metadata": {},
   "outputs": [
    {
     "name": "stdout",
     "output_type": "stream",
     "text": [
      "X_train:(178764, 9), y_train:(178764,)\n",
      "X_val:(59588, 9), y_val:(59588,)\n",
      "X_test:(59588, 9), y_test:(59588,)\n"
     ]
    }
   ],
   "source": [
    "print(f'X_train:{X_train.shape}, y_train:{y_train.shape}')\n",
    "print(f'X_val:{X_val.shape}, y_val:{y_val.shape}')\n",
    "print(f'X_test:{X_test.shape}, y_test:{y_test.shape}')"
   ]
  },
  {
   "cell_type": "markdown",
   "metadata": {},
   "source": [
    "## Training data - exploratory analysis"
   ]
  },
  {
   "cell_type": "code",
   "execution_count": 631,
   "metadata": {},
   "outputs": [
    {
     "data": {
      "text/plain": [
       "price        1.000000\n",
       "duration     0.201852\n",
       "days_left    0.092129\n",
       "Name: price, dtype: float64"
      ]
     },
     "execution_count": 631,
     "metadata": {},
     "output_type": "execute_result"
    }
   ],
   "source": [
    "corr = df_train.corr()\n",
    "corr['price'].sort_values(ascending=False).abs()"
   ]
  },
  {
   "cell_type": "code",
   "execution_count": 632,
   "metadata": {},
   "outputs": [
    {
     "data": {
      "text/plain": [
       "<AxesSubplot:>"
      ]
     },
     "execution_count": 632,
     "metadata": {},
     "output_type": "execute_result"
    },
    {
     "data": {
      "image/png": "[encoded data removed]",
      "text/plain": [
       "<Figure size 576x360 with 2 Axes>"
      ]
     },
     "metadata": {
      "needs_background": "light"
     },
     "output_type": "display_data"
    }
   ],
   "source": [
    "plt.figure(figsize=(8,5))\n",
    "sns.heatmap(corr.abs(), annot=corr.abs(), mask=np.triu(np.ones_like(corr)), cmap='YlGnBu')"
   ]
  },
  {
   "cell_type": "code",
   "execution_count": 633,
   "metadata": {},
   "outputs": [
    {
     "data": {
      "image/png": "[encoded data removed]",
      "text/plain": [
       "<Figure size 432x288 with 1 Axes>"
      ]
     },
     "metadata": {
      "needs_background": "light"
     },
     "output_type": "display_data"
    },
    {
     "data": {
      "text/plain": [
       "<Figure size 1080x720 with 0 Axes>"
      ]
     },
     "metadata": {},
     "output_type": "display_data"
    },
    {
     "data": {
      "image/png": "[encoded data removed]",
      "text/plain": [
       "<Figure size 432x288 with 1 Axes>"
      ]
     },
     "metadata": {
      "needs_background": "light"
     },
     "output_type": "display_data"
    },
    {
     "data": {
      "text/plain": [
       "<Figure size 1080x720 with 0 Axes>"
      ]
     },
     "metadata": {},
     "output_type": "display_data"
    },
    {
     "data": {
      "image/png": "[encoded data removed]",
      "text/plain": [
       "<Figure size 432x288 with 1 Axes>"
      ]
     },
     "metadata": {
      "needs_background": "light"
     },
     "output_type": "display_data"
    },
    {
     "data": {
      "text/plain": [
       "<Figure size 1080x720 with 0 Axes>"
      ]
     },
     "metadata": {},
     "output_type": "display_data"
    },
    {
     "data": {
      "image/png": "[encoded data removed]",
      "text/plain": [
       "<Figure size 432x288 with 1 Axes>"
      ]
     },
     "metadata": {
      "needs_background": "light"
     },
     "output_type": "display_data"
    },
    {
     "data": {
      "text/plain": [
       "<Figure size 1080x720 with 0 Axes>"
      ]
     },
     "metadata": {},
     "output_type": "display_data"
    },
    {
     "data": {
      "image/png": "[encoded data removed]",
      "text/plain": [
       "<Figure size 432x288 with 1 Axes>"
      ]
     },
     "metadata": {
      "needs_background": "light"
     },
     "output_type": "display_data"
    },
    {
     "data": {
      "text/plain": [
       "<Figure size 1080x720 with 0 Axes>"
      ]
     },
     "metadata": {},
     "output_type": "display_data"
    },
    {
     "data": {
      "image/png": "[encoded data removed]",
      "text/plain": [
       "<Figure size 432x288 with 1 Axes>"
      ]
     },
     "metadata": {
      "needs_background": "light"
     },
     "output_type": "display_data"
    },
    {
     "data": {
      "text/plain": [
       "<Figure size 1080x720 with 0 Axes>"
      ]
     },
     "metadata": {},
     "output_type": "display_data"
    },
    {
     "data": {
      "image/png": "[encoded data removed]",
      "text/plain": [
       "<Figure size 432x288 with 1 Axes>"
      ]
     },
     "metadata": {
      "needs_background": "light"
     },
     "output_type": "display_data"
    },
    {
     "data": {
      "text/plain": [
       "<Figure size 1080x720 with 0 Axes>"
      ]
     },
     "metadata": {},
     "output_type": "display_data"
    }
   ],
   "source": [
    "for i in df_train.iloc[:,0:7]:\n",
    "    sns.boxplot(x=i, y=\"price\", data=df_train)\n",
    "    # sns.boxplot(x=i, y=\"price\", data=df_train).set(yscale=\"log\")\n",
    "    plt.figure(figsize=(15,10))\n",
    "    plt.show()\n"
   ]
  },
  {
   "cell_type": "markdown",
   "metadata": {},
   "source": [
    "#### Notes:\n",
    "\n",
    "- **Airline**: Vistara and Air India have the highest prices among all airlines (highest medians and a largest distribuiton at the third quartile).\n",
    "\n",
    "- **Source_city**: this choice has a really small influence at the flight price, since all of them have the same distribuition.\n",
    "    \n",
    "- **Departure_time** : morning and night flights have higher prices. However, in the evening we get a big drop in these prices.\n",
    "\n",
    "- **Stops**: flights with two stops or more have higher prices than flights without stops.\n",
    "\n",
    "- **Arrival_time**: likewise the departure time, morning and night flights have higher prices.\n",
    "\n",
    "- **Destination_city**: likewise the source city, this feature have a really small influence at the flight price.\n",
    "\n",
    "- **Class**: we can observe that flights from business class are about 10x more expensive than the flights from economy class. Therefore, we can judge that the class is probably the feature most correlated with the price."
   ]
  },
  {
   "cell_type": "markdown",
   "metadata": {},
   "source": [
    "## Training the models"
   ]
  },
  {
   "cell_type": "code",
   "execution_count": 634,
   "metadata": {},
   "outputs": [],
   "source": [
    "root_mean_squared_error = lambda a, b: np.sqrt(np.mean((a-b)**2))"
   ]
  },
  {
   "cell_type": "code",
   "execution_count": 635,
   "metadata": {},
   "outputs": [],
   "source": [
    "# Numerical features\n",
    "num_features = ['duration', 'days_left']\n",
    "\n",
    "# Categorical features\n",
    "cat_features = ['airline', 'source_city', 'departure_time', 'stops', 'arrival_time', 'destination_city', 'class'] "
   ]
  },
  {
   "cell_type": "markdown",
   "metadata": {},
   "source": [
    "### Prediction just using the numerical features and without standarization"
   ]
  },
  {
   "cell_type": "code",
   "execution_count": 636,
   "metadata": {},
   "outputs": [
    {
     "name": "stdout",
     "output_type": "stream",
     "text": [
      "Train RMSE: 22162.41\n",
      "Train MAPE: 211.95%\n",
      "  Val RMSE: 22237.77\n",
      "  Val MAPE: 210.99%\n"
     ]
    }
   ],
   "source": [
    "preprocess_a = make_column_transformer(\n",
    "    ('passthrough', num_features),\n",
    "    ('drop', cat_features))\n",
    "\n",
    "# Pipeline\n",
    "model_a = make_pipeline(\n",
    "    preprocess_a,\n",
    "    LinearRegression())\n",
    "model_a.fit(X_train, y_train)\n",
    "\n",
    "print(f'Train RMSE: {root_mean_squared_error(y_train, model_a.predict(X_train)):.2f}') \n",
    "print(f'Train MAPE: {mean_absolute_percentage_error(y_train, model_a.predict(X_train)):.2%}')\n",
    "print(f'  Val RMSE: {root_mean_squared_error(y_val, model_a.predict(X_val)):.2f}')\n",
    "print(f'  Val MAPE: {mean_absolute_percentage_error(y_val, model_a.predict(X_val)):.2%}')"
   ]
  },
  {
   "cell_type": "code",
   "execution_count": 1,
   "metadata": {},
   "outputs": [
    {
     "ename": "NameError",
     "evalue": "name 'make_pipeline' is not defined",
     "output_type": "error",
     "traceback": [
      "\u001b[1;31m---------------------------------------------------------------------------\u001b[0m",
      "\u001b[1;31mNameError\u001b[0m                                 Traceback (most recent call last)",
      "\u001b[1;32mc:\\Users\\lucas\\OneDrive\\Área de Trabalho\\ML Training\\Kaggle - Flight Price Prediction.ipynb Célula: 40\u001b[0m in \u001b[0;36m<cell line: 1>\u001b[1;34m()\u001b[0m\n\u001b[1;32m----> <a href='vscode-notebook-cell:/c%3A/Users/lucas/OneDrive/%C3%81rea%20de%20Trabalho/ML%20Training/Kaggle%20-%20Flight%20Price%20Prediction.ipynb#X54sZmlsZQ%3D%3D?line=0'>1</a>\u001b[0m model_a_scaled \u001b[39m=\u001b[39m make_pipeline(\n\u001b[0;32m      <a href='vscode-notebook-cell:/c%3A/Users/lucas/OneDrive/%C3%81rea%20de%20Trabalho/ML%20Training/Kaggle%20-%20Flight%20Price%20Prediction.ipynb#X54sZmlsZQ%3D%3D?line=1'>2</a>\u001b[0m     preprocess_a,\n\u001b[0;32m      <a href='vscode-notebook-cell:/c%3A/Users/lucas/OneDrive/%C3%81rea%20de%20Trabalho/ML%20Training/Kaggle%20-%20Flight%20Price%20Prediction.ipynb#X54sZmlsZQ%3D%3D?line=2'>3</a>\u001b[0m     StandardScaler(),\n\u001b[0;32m      <a href='vscode-notebook-cell:/c%3A/Users/lucas/OneDrive/%C3%81rea%20de%20Trabalho/ML%20Training/Kaggle%20-%20Flight%20Price%20Prediction.ipynb#X54sZmlsZQ%3D%3D?line=3'>4</a>\u001b[0m     LinearRegression())\n\u001b[0;32m      <a href='vscode-notebook-cell:/c%3A/Users/lucas/OneDrive/%C3%81rea%20de%20Trabalho/ML%20Training/Kaggle%20-%20Flight%20Price%20Prediction.ipynb#X54sZmlsZQ%3D%3D?line=4'>5</a>\u001b[0m model_a_scaled\u001b[39m.\u001b[39mfit(X_train, y_train)\n\u001b[0;32m      <a href='vscode-notebook-cell:/c%3A/Users/lucas/OneDrive/%C3%81rea%20de%20Trabalho/ML%20Training/Kaggle%20-%20Flight%20Price%20Prediction.ipynb#X54sZmlsZQ%3D%3D?line=6'>7</a>\u001b[0m \u001b[39mprint\u001b[39m(\u001b[39mf\u001b[39m\u001b[39m'\u001b[39m\u001b[39mTrain RMSE: \u001b[39m\u001b[39m{\u001b[39;00mroot_mean_squared_error(y_train, model_a_scaled\u001b[39m.\u001b[39mpredict(X_train))\u001b[39m:\u001b[39;00m\u001b[39m.2f\u001b[39m\u001b[39m}\u001b[39;00m\u001b[39m'\u001b[39m) \n",
      "\u001b[1;31mNameError\u001b[0m: name 'make_pipeline' is not defined"
     ]
    }
   ],
   "source": [
    "# Now with standarization\n",
    "model_a_scaled = make_pipeline(\n",
    "    preprocess_a,\n",
    "    StandardScaler(),\n",
    "    LinearRegression())\n",
    "model_a_scaled.fit(X_train, y_train)\n",
    "\n",
    "print(f'Train RMSE: {root_mean_squared_error(y_train, model_a_scaled.predict(X_train)):.2f}') \n",
    "print(f'Train MAPE: {mean_absolute_percentage_error(y_train, model_a_scaled.predict(X_train)):.2%}')\n",
    "print(f'  Val RMSE: {root_mean_squared_error(y_val, model_a_scaled.predict(X_val)):.2f}')\n",
    "print(f'  Val MAPE: {mean_absolute_percentage_error(y_val, model_a_scaled.predict(X_val)):.2%}')"
   ]
  },
  {
   "cell_type": "markdown",
   "metadata": {},
   "source": [
    "### Comments:\n",
    "\n",
    "- We can easily see that this approach is not appropriated for the problem but, due to the study, i'm gonna let this on the notebook."
   ]
  },
  {
   "cell_type": "markdown",
   "metadata": {},
   "source": [
    "### Prediction just using the categorical features"
   ]
  },
  {
   "cell_type": "code",
   "execution_count": 638,
   "metadata": {},
   "outputs": [
    {
     "name": "stdout",
     "output_type": "stream",
     "text": [
      "Train RMSE: 6992.77\n",
      "Train MAPE: 50.09%\n",
      "  Val RMSE: 6956.72\n",
      "  Val MAPE: 49.95%\n"
     ]
    }
   ],
   "source": [
    "preprocess_b = make_column_transformer(\n",
    "    (OneHotEncoder(), cat_features),\n",
    "    ('drop', num_features))\n",
    "\n",
    "# Pipeline\n",
    "model_b = make_pipeline(\n",
    "    preprocess_b,\n",
    "    LinearRegression())\n",
    "model_b.fit(X_train, y_train)\n",
    "\n",
    "print(f'Train RMSE: {root_mean_squared_error(y_train, model_b.predict(X_train)):.2f}') \n",
    "print(f'Train MAPE: {mean_absolute_percentage_error(y_train, model_b.predict(X_train)):.2%}')\n",
    "print(f'  Val RMSE: {root_mean_squared_error(y_val, model_b.predict(X_val)):.2f}')\n",
    "print(f'  Val MAPE: {mean_absolute_percentage_error(y_val, model_b.predict(X_val)):.2%}')"
   ]
  },
  {
   "cell_type": "markdown",
   "metadata": {},
   "source": [
    "### Prediction using all features (numerical and categorical)"
   ]
  },
  {
   "cell_type": "code",
   "execution_count": 639,
   "metadata": {},
   "outputs": [
    {
     "name": "stdout",
     "output_type": "stream",
     "text": [
      "Train RMSE: 6761.20\n",
      "Train MAPE: 46.21%\n",
      "  Val RMSE: 6718.07\n",
      "  Val MAPE: 46.01%\n"
     ]
    }
   ],
   "source": [
    "preprocess_c = make_column_transformer(\n",
    "    (OneHotEncoder(), cat_features),\n",
    "    ('passthrough', num_features))\n",
    "\n",
    "# Pipeline \n",
    "model_c = make_pipeline(\n",
    "    preprocess_c,\n",
    "    LinearRegression())\n",
    "model_c.fit(X_train, y_train)\n",
    "\n",
    "print(f'Train RMSE: {root_mean_squared_error(y_train, model_c.predict(X_train)):.2f}') \n",
    "print(f'Train MAPE: {mean_absolute_percentage_error(y_train, model_c.predict(X_train)):.2%}')\n",
    "print(f'  Val RMSE: {root_mean_squared_error(y_val, model_c.predict(X_val)):.2f}')\n",
    "print(f'  Val MAPE: {mean_absolute_percentage_error(y_val, model_c.predict(X_val)):.2%}')"
   ]
  },
  {
   "cell_type": "markdown",
   "metadata": {},
   "source": [
    "### Prediction with polynomial regression using all features (numerical and categorical)"
   ]
  },
  {
   "cell_type": "code",
   "execution_count": 640,
   "metadata": {},
   "outputs": [
    {
     "data": {
      "text/html": [
       "<style type=\"text/css\">\n",
       "</style>\n",
       "<table id=\"T_37326\">\n",
       "  <thead>\n",
       "    <tr>\n",
       "      <th class=\"blank level0\" >&nbsp;</th>\n",
       "      <th id=\"T_37326_level0_col0\" class=\"col_heading level0 col0\" >Poly degree</th>\n",
       "      <th id=\"T_37326_level0_col1\" class=\"col_heading level0 col1\" >Train RMSE</th>\n",
       "      <th id=\"T_37326_level0_col2\" class=\"col_heading level0 col2\" >Train MAPE</th>\n",
       "      <th id=\"T_37326_level0_col3\" class=\"col_heading level0 col3\" >  Val RMSE</th>\n",
       "      <th id=\"T_37326_level0_col4\" class=\"col_heading level0 col4\" >  Val MAPE</th>\n",
       "    </tr>\n",
       "  </thead>\n",
       "  <tbody>\n",
       "    <tr>\n",
       "      <th id=\"T_37326_level0_row0\" class=\"row_heading level0 row0\" >0</th>\n",
       "      <td id=\"T_37326_row0_col0\" class=\"data row0 col0\" >2</td>\n",
       "      <td id=\"T_37326_row0_col1\" class=\"data row0 col1\" >6648.75</td>\n",
       "      <td id=\"T_37326_row0_col2\" class=\"data row0 col2\" >44.84%</td>\n",
       "      <td id=\"T_37326_row0_col3\" class=\"data row0 col3\" >6611.43</td>\n",
       "      <td id=\"T_37326_row0_col4\" class=\"data row0 col4\" >44.69%</td>\n",
       "    </tr>\n",
       "    <tr>\n",
       "      <th id=\"T_37326_level0_row1\" class=\"row_heading level0 row1\" >1</th>\n",
       "      <td id=\"T_37326_row1_col0\" class=\"data row1 col0\" >3</td>\n",
       "      <td id=\"T_37326_row1_col1\" class=\"data row1 col1\" >6607.16</td>\n",
       "      <td id=\"T_37326_row1_col2\" class=\"data row1 col2\" >44.93%</td>\n",
       "      <td id=\"T_37326_row1_col3\" class=\"data row1 col3\" >6570.75</td>\n",
       "      <td id=\"T_37326_row1_col4\" class=\"data row1 col4\" >44.80%</td>\n",
       "    </tr>\n",
       "    <tr>\n",
       "      <th id=\"T_37326_level0_row2\" class=\"row_heading level0 row2\" >2</th>\n",
       "      <td id=\"T_37326_row2_col0\" class=\"data row2 col0\" >4</td>\n",
       "      <td id=\"T_37326_row2_col1\" class=\"data row2 col1\" >6604.74</td>\n",
       "      <td id=\"T_37326_row2_col2\" class=\"data row2 col2\" >44.69%</td>\n",
       "      <td id=\"T_37326_row2_col3\" class=\"data row2 col3\" >6567.45</td>\n",
       "      <td id=\"T_37326_row2_col4\" class=\"data row2 col4\" >44.56%</td>\n",
       "    </tr>\n",
       "    <tr>\n",
       "      <th id=\"T_37326_level0_row3\" class=\"row_heading level0 row3\" >3</th>\n",
       "      <td id=\"T_37326_row3_col0\" class=\"data row3 col0\" >5</td>\n",
       "      <td id=\"T_37326_row3_col1\" class=\"data row3 col1\" >6599.93</td>\n",
       "      <td id=\"T_37326_row3_col2\" class=\"data row3 col2\" >44.34%</td>\n",
       "      <td id=\"T_37326_row3_col3\" class=\"data row3 col3\" >6564.20</td>\n",
       "      <td id=\"T_37326_row3_col4\" class=\"data row3 col4\" >44.19%</td>\n",
       "    </tr>\n",
       "    <tr>\n",
       "      <th id=\"T_37326_level0_row4\" class=\"row_heading level0 row4\" >4</th>\n",
       "      <td id=\"T_37326_row4_col0\" class=\"data row4 col0\" >6</td>\n",
       "      <td id=\"T_37326_row4_col1\" class=\"data row4 col1\" >6594.72</td>\n",
       "      <td id=\"T_37326_row4_col2\" class=\"data row4 col2\" >44.20%</td>\n",
       "      <td id=\"T_37326_row4_col3\" class=\"data row4 col3\" >6559.33</td>\n",
       "      <td id=\"T_37326_row4_col4\" class=\"data row4 col4\" >44.05%</td>\n",
       "    </tr>\n",
       "    <tr>\n",
       "      <th id=\"T_37326_level0_row5\" class=\"row_heading level0 row5\" >5</th>\n",
       "      <td id=\"T_37326_row5_col0\" class=\"data row5 col0\" >7</td>\n",
       "      <td id=\"T_37326_row5_col1\" class=\"data row5 col1\" >6589.53</td>\n",
       "      <td id=\"T_37326_row5_col2\" class=\"data row5 col2\" >44.06%</td>\n",
       "      <td id=\"T_37326_row5_col3\" class=\"data row5 col3\" >6553.02</td>\n",
       "      <td id=\"T_37326_row5_col4\" class=\"data row5 col4\" >43.94%</td>\n",
       "    </tr>\n",
       "    <tr>\n",
       "      <th id=\"T_37326_level0_row6\" class=\"row_heading level0 row6\" >6</th>\n",
       "      <td id=\"T_37326_row6_col0\" class=\"data row6 col0\" >8</td>\n",
       "      <td id=\"T_37326_row6_col1\" class=\"data row6 col1\" >6587.68</td>\n",
       "      <td id=\"T_37326_row6_col2\" class=\"data row6 col2\" >43.64%</td>\n",
       "      <td id=\"T_37326_row6_col3\" class=\"data row6 col3\" >6554.42</td>\n",
       "      <td id=\"T_37326_row6_col4\" class=\"data row6 col4\" >43.49%</td>\n",
       "    </tr>\n",
       "    <tr>\n",
       "      <th id=\"T_37326_level0_row7\" class=\"row_heading level0 row7\" >7</th>\n",
       "      <td id=\"T_37326_row7_col0\" class=\"data row7 col0\" >9</td>\n",
       "      <td id=\"T_37326_row7_col1\" class=\"data row7 col1\" >6920.94</td>\n",
       "      <td id=\"T_37326_row7_col2\" class=\"data row7 col2\" >47.25%</td>\n",
       "      <td id=\"T_37326_row7_col3\" class=\"data row7 col3\" >6939.44</td>\n",
       "      <td id=\"T_37326_row7_col4\" class=\"data row7 col4\" >46.95%</td>\n",
       "    </tr>\n",
       "    <tr>\n",
       "      <th id=\"T_37326_level0_row8\" class=\"row_heading level0 row8\" >8</th>\n",
       "      <td id=\"T_37326_row8_col0\" class=\"data row8 col0\" >10</td>\n",
       "      <td id=\"T_37326_row8_col1\" class=\"data row8 col1\" >26254.54</td>\n",
       "      <td id=\"T_37326_row8_col2\" class=\"data row8 col2\" >236.95%</td>\n",
       "      <td id=\"T_37326_row8_col3\" class=\"data row8 col3\" >26441.40</td>\n",
       "      <td id=\"T_37326_row8_col4\" class=\"data row8 col4\" >235.71%</td>\n",
       "    </tr>\n",
       "  </tbody>\n",
       "</table>\n"
      ],
      "text/plain": [
       "<pandas.io.formats.style.Styler at 0x23c0159fee0>"
      ]
     },
     "execution_count": 640,
     "metadata": {},
     "output_type": "execute_result"
    }
   ],
   "source": [
    "polydegree_list = []\n",
    "\n",
    "for d in range(2,11):\n",
    "    poly_dict = {}\n",
    "\n",
    "    preprocess_d = make_column_transformer(\n",
    "        (PolynomialFeatures(d, include_bias=False), num_features),\n",
    "        (OneHotEncoder(), cat_features))\n",
    "\n",
    "    #Pipelines com dados categóricos (encodados) e dados numéricos com PolynomialFeatures\n",
    "    model_d = make_pipeline(preprocess_d,LinearRegression())\n",
    "    model_d.fit(X_train, y_train)\n",
    "\n",
    "    poly_dict.update({'Poly degree': d, \n",
    "                    'Train RMSE': root_mean_squared_error(y_train, model_d.predict(X_train)),\n",
    "                    'Train MAPE': mean_absolute_percentage_error(y_train, model_d.predict(X_train)),\n",
    "                    '  Val RMSE': root_mean_squared_error(y_val, model_d.predict(X_val)),\n",
    "                    '  Val MAPE': mean_absolute_percentage_error(y_val, model_d.predict(X_val))})\n",
    "        \n",
    "    polydegree_list.append(poly_dict)\n",
    "\n",
    "polydegree_df = pd.DataFrame(data=polydegree_list)\n",
    "polydegree_df.style.format({'Train RMSE': '{:.2f}', 'Train MAPE': '{:.2%}',\n",
    "                            '  Val RMSE': '{:.2f}', '  Val MAPE': '{:.2%}'})"
   ]
  },
  {
   "cell_type": "markdown",
   "metadata": {},
   "source": [
    "### Prediction with Ridge regularization together polynomial regression"
   ]
  },
  {
   "cell_type": "code",
   "execution_count": 641,
   "metadata": {},
   "outputs": [
    {
     "name": "stdout",
     "output_type": "stream",
     "text": [
      "Train RMSE: 6596.25\n",
      "Train MAPE: 44.22%\n",
      "  Val RMSE: 6559.95\n",
      "  Val MAPE: 44.07%\n"
     ]
    }
   ],
   "source": [
    "preprocess_e = make_column_transformer(\n",
    "    (PolynomialFeatures(degree=6, include_bias=False), num_features),\n",
    "    (OneHotEncoder(), cat_features))\n",
    "\n",
    "#Pipeline com regularização Ridge\n",
    "model_e = make_pipeline(\n",
    "    preprocess_e,\n",
    "    StandardScaler(),\n",
    "    Ridge(1e-2))\n",
    "model_e.fit(X_train, y_train)\n",
    "\n",
    "print(f'Train RMSE: {root_mean_squared_error(y_train, model_e.predict(X_train)):.2f}') \n",
    "print(f'Train MAPE: {mean_absolute_percentage_error(y_train, model_e.predict(X_train)):.2%}')\n",
    "print(f'  Val RMSE: {root_mean_squared_error(y_val, model_e.predict(X_val)):.2f}')\n",
    "print(f'  Val MAPE: {mean_absolute_percentage_error(y_val, model_e.predict(X_val)):.2%}')"
   ]
  },
  {
   "cell_type": "markdown",
   "metadata": {},
   "source": [
    "### Prediction with TransformTargedRegressor"
   ]
  },
  {
   "cell_type": "code",
   "execution_count": 642,
   "metadata": {},
   "outputs": [
    {
     "name": "stdout",
     "output_type": "stream",
     "text": [
      "Train RMSE: 7797.25\n",
      "Train MAPE: 26.14%\n",
      "  Val RMSE: 7776.46\n",
      "  Val MAPE: 25.99%\n"
     ]
    }
   ],
   "source": [
    "preprocess_c = make_column_transformer(\n",
    "    (OneHotEncoder(), cat_features),\n",
    "    ('passthrough', num_features))\n",
    "\n",
    "# Transfomação da variável alvo com modelo de Regressão Linear\n",
    "model_f1 = make_pipeline(\n",
    "    preprocess_c,\n",
    "    TransformedTargetRegressor(LinearRegression(), func=np.log, inverse_func=np.exp))\n",
    "model_f1.fit(X_train, y_train)\n",
    "\n",
    "print(f'Train RMSE: {root_mean_squared_error(y_train, model_f1.predict(X_train)):.2f}') \n",
    "print(f'Train MAPE: {mean_absolute_percentage_error(y_train, model_f1.predict(X_train)):.2%}')\n",
    "print(f'  Val RMSE: {root_mean_squared_error(y_val, model_f1.predict(X_val)):.2f}')\n",
    "print(f'  Val MAPE: {mean_absolute_percentage_error(y_val, model_f1.predict(X_val)):.2%}')"
   ]
  },
  {
   "cell_type": "code",
   "execution_count": 643,
   "metadata": {},
   "outputs": [
    {
     "name": "stdout",
     "output_type": "stream",
     "text": [
      "Train RMSE: 8385.22\n",
      "Train MAPE: 24.04%\n",
      "  Val RMSE: 8342.80\n",
      "  Val MAPE: 23.97%\n"
     ]
    }
   ],
   "source": [
    "preprocess = make_column_transformer(\n",
    "    (PolynomialFeatures(degree=6, include_bias=False), num_features),\n",
    "    (OneHotEncoder(), cat_features))\n",
    "\n",
    "#Transformação da variável alvo com modelo de Regressão Polinomial/Regressão Linear\n",
    "model_f2 = make_pipeline(\n",
    "    preprocess,\n",
    "    TransformedTargetRegressor(LinearRegression(), func=np.log, inverse_func=np.exp))\n",
    "model_f2.fit(X_train, y_train)\n",
    "\n",
    "print(f'Train RMSE: {root_mean_squared_error(y_train, model_f2.predict(X_train)):.2f}') \n",
    "print(f'Train MAPE: {mean_absolute_percentage_error(y_train, model_f2.predict(X_train)):.2%}')\n",
    "print(f'  Val RMSE: {root_mean_squared_error(y_val, model_f2.predict(X_val)):.2f}')\n",
    "print(f'  Val MAPE: {mean_absolute_percentage_error(y_val, model_f2.predict(X_val)):.2%}')"
   ]
  },
  {
   "cell_type": "code",
   "execution_count": 644,
   "metadata": {},
   "outputs": [
    {
     "name": "stdout",
     "output_type": "stream",
     "text": [
      "Train RMSE: 8415.33\n",
      "Train MAPE: 24.04%\n",
      "  Val RMSE: 8376.11\n",
      "  Val MAPE: 23.97%\n"
     ]
    }
   ],
   "source": [
    "# Transformação da variável alvo com modelo de Regressão Polinomial e regularização Ridge\n",
    "model_f3 = make_pipeline(\n",
    "    preprocess_e,\n",
    "    StandardScaler(),\n",
    "    TransformedTargetRegressor(Ridge(1e-2), func=np.log, inverse_func=np.exp))\n",
    "model_f3.fit(X_train, y_train)\n",
    "\n",
    "print(f'Train RMSE: {root_mean_squared_error(y_train, model_f3.predict(X_train)):.2f}') \n",
    "print(f'Train MAPE: {mean_absolute_percentage_error(y_train, model_f3.predict(X_train)):.2%}')\n",
    "print(f'  Val RMSE: {root_mean_squared_error(y_val, model_f3.predict(X_val)):.2f}')\n",
    "print(f'  Val MAPE: {mean_absolute_percentage_error(y_val, model_f3.predict(X_val)):.2%}')"
   ]
  },
  {
   "cell_type": "markdown",
   "metadata": {},
   "source": [
    "**TransformTargetRegressor**:\n",
    "A transformação da variável alvo serve tentarmos chegarmos no MAPE usando o MSE (lembrando que o MAPE é a métrica de avaliação em que estamos interessados, contudo, nos modelos de regressão utiliza-se tipicamente MSE). Sendo sasim, aplicamos o log neperiana na variável alvo e, assim, o erro na predição da variável alvo (y) se tornará função do erro relativo na predição do preço (ou seja, acabamos evitando dar pesos excessivos a variáveis alvo muito grandes, evitando assim criar uma tendência na predição, resultando em uma diminuição do erro).\n",
    "\n",
    "Contudo, como nesse df não temos overfitting, não há necessidade de penalização das amostras, ou seja, não há necessidade de aplicar uma regularização no modelo."
   ]
  },
  {
   "cell_type": "markdown",
   "metadata": {},
   "source": [
    "##### Table for results comparison"
   ]
  },
  {
   "cell_type": "code",
   "execution_count": 645,
   "metadata": {},
   "outputs": [
    {
     "data": {
      "text/html": [
       "<style type=\"text/css\">\n",
       "</style>\n",
       "<table id=\"T_a7cde\">\n",
       "  <thead>\n",
       "    <tr>\n",
       "      <th class=\"blank level0\" >&nbsp;</th>\n",
       "      <th id=\"T_a7cde_level0_col0\" class=\"col_heading level0 col0\" >Train RMSE</th>\n",
       "      <th id=\"T_a7cde_level0_col1\" class=\"col_heading level0 col1\" >Train MAPE</th>\n",
       "      <th id=\"T_a7cde_level0_col2\" class=\"col_heading level0 col2\" >Val RMSE</th>\n",
       "      <th id=\"T_a7cde_level0_col3\" class=\"col_heading level0 col3\" >Val MAPE</th>\n",
       "    </tr>\n",
       "  </thead>\n",
       "  <tbody>\n",
       "    <tr>\n",
       "      <th id=\"T_a7cde_level0_row0\" class=\"row_heading level0 row0\" >LR</th>\n",
       "      <td id=\"T_a7cde_row0_col0\" class=\"data row0 col0\" >6761.20</td>\n",
       "      <td id=\"T_a7cde_row0_col1\" class=\"data row0 col1\" >46.21%</td>\n",
       "      <td id=\"T_a7cde_row0_col2\" class=\"data row0 col2\" >6718.070112</td>\n",
       "      <td id=\"T_a7cde_row0_col3\" class=\"data row0 col3\" >46.01%</td>\n",
       "    </tr>\n",
       "    <tr>\n",
       "      <th id=\"T_a7cde_level0_row1\" class=\"row_heading level0 row1\" >LR-TTR</th>\n",
       "      <td id=\"T_a7cde_row1_col0\" class=\"data row1 col0\" >7797.25</td>\n",
       "      <td id=\"T_a7cde_row1_col1\" class=\"data row1 col1\" >26.14%</td>\n",
       "      <td id=\"T_a7cde_row1_col2\" class=\"data row1 col2\" >7776.458840</td>\n",
       "      <td id=\"T_a7cde_row1_col3\" class=\"data row1 col3\" >25.99%</td>\n",
       "    </tr>\n",
       "    <tr>\n",
       "      <th id=\"T_a7cde_level0_row2\" class=\"row_heading level0 row2\" >Poly-LR</th>\n",
       "      <td id=\"T_a7cde_row2_col0\" class=\"data row2 col0\" >6594.72</td>\n",
       "      <td id=\"T_a7cde_row2_col1\" class=\"data row2 col1\" >44.20%</td>\n",
       "      <td id=\"T_a7cde_row2_col2\" class=\"data row2 col2\" >6559.334368</td>\n",
       "      <td id=\"T_a7cde_row2_col3\" class=\"data row2 col3\" >44.05%</td>\n",
       "    </tr>\n",
       "    <tr>\n",
       "      <th id=\"T_a7cde_level0_row3\" class=\"row_heading level0 row3\" >Poly-LR-TTR</th>\n",
       "      <td id=\"T_a7cde_row3_col0\" class=\"data row3 col0\" >8385.22</td>\n",
       "      <td id=\"T_a7cde_row3_col1\" class=\"data row3 col1\" >24.04%</td>\n",
       "      <td id=\"T_a7cde_row3_col2\" class=\"data row3 col2\" >8342.798900</td>\n",
       "      <td id=\"T_a7cde_row3_col3\" class=\"data row3 col3\" >23.97%</td>\n",
       "    </tr>\n",
       "    <tr>\n",
       "      <th id=\"T_a7cde_level0_row4\" class=\"row_heading level0 row4\" >Poly-Ridge</th>\n",
       "      <td id=\"T_a7cde_row4_col0\" class=\"data row4 col0\" >6596.25</td>\n",
       "      <td id=\"T_a7cde_row4_col1\" class=\"data row4 col1\" >44.22%</td>\n",
       "      <td id=\"T_a7cde_row4_col2\" class=\"data row4 col2\" >6559.953715</td>\n",
       "      <td id=\"T_a7cde_row4_col3\" class=\"data row4 col3\" >44.07%</td>\n",
       "    </tr>\n",
       "    <tr>\n",
       "      <th id=\"T_a7cde_level0_row5\" class=\"row_heading level0 row5\" >Poly-Ridge-TTR</th>\n",
       "      <td id=\"T_a7cde_row5_col0\" class=\"data row5 col0\" >8415.33</td>\n",
       "      <td id=\"T_a7cde_row5_col1\" class=\"data row5 col1\" >24.04%</td>\n",
       "      <td id=\"T_a7cde_row5_col2\" class=\"data row5 col2\" >8376.111133</td>\n",
       "      <td id=\"T_a7cde_row5_col3\" class=\"data row5 col3\" >23.97%</td>\n",
       "    </tr>\n",
       "  </tbody>\n",
       "</table>\n"
      ],
      "text/plain": [
       "<pandas.io.formats.style.Styler at 0x23c2b6d7310>"
      ]
     },
     "execution_count": 645,
     "metadata": {},
     "output_type": "execute_result"
    }
   ],
   "source": [
    "models = {\n",
    "    'LR'    : model_c,\n",
    "    'LR-TTR': model_f1,\n",
    "    'Poly-LR': make_pipeline(\n",
    "        preprocess,\n",
    "        LinearRegression()),\n",
    "    'Poly-LR-TTR': model_f2,\n",
    "    'Poly-Ridge': model_e,\n",
    "    'Poly-Ridge-TTR': model_f3\n",
    "}\n",
    "\n",
    "results = pd.DataFrame([], columns=['Train RMSE', 'Train MAPE', 'Val RMSE', 'Val MAPE'])\n",
    "for name, model in models.items():\n",
    "    for (X, y, subset) in [(X_train, y_train, 'Train'), (X_val, y_val, 'Val')]:\n",
    "        if subset == 'Train':\n",
    "            model.fit(X, y)\n",
    "        for (metric, abbrev) in [(root_mean_squared_error, 'RMSE'), (mean_absolute_percentage_error, 'MAPE')]:\n",
    "            results.loc[name, f'{subset} {abbrev}'] = metric(y, model.predict(X))\n",
    "results.style.format({'Train RMSE': '{:.2f}', 'Train MAPE': '{:.2%}',\n",
    "                      '  Val RMSE': '{:.2f}',   'Val MAPE': '{:.2%}'})"
   ]
  },
  {
   "cell_type": "markdown",
   "metadata": {},
   "source": [
    "## Retraining"
   ]
  },
  {
   "cell_type": "code",
   "execution_count": 646,
   "metadata": {},
   "outputs": [
    {
     "data": {
      "text/html": [
       "<style>#sk-container-id-10 {color: black;background-color: white;}#sk-container-id-10 pre{padding: 0;}#sk-container-id-10 div.sk-toggleable {background-color: white;}#sk-container-id-10 label.sk-toggleable__label {cursor: pointer;display: block;width: 100%;margin-bottom: 0;padding: 0.3em;box-sizing: border-box;text-align: center;}#sk-container-id-10 label.sk-toggleable__label-arrow:before {content: \"▸\";float: left;margin-right: 0.25em;color: #696969;}#sk-container-id-10 label.sk-toggleable__label-arrow:hover:before {color: black;}#sk-container-id-10 div.sk-estimator:hover label.sk-toggleable__label-arrow:before {color: black;}#sk-container-id-10 div.sk-toggleable__content {max-height: 0;max-width: 0;overflow: hidden;text-align: left;background-color: #f0f8ff;}#sk-container-id-10 div.sk-toggleable__content pre {margin: 0.2em;color: black;border-radius: 0.25em;background-color: #f0f8ff;}#sk-container-id-10 input.sk-toggleable__control:checked~div.sk-toggleable__content {max-height: 200px;max-width: 100%;overflow: auto;}#sk-container-id-10 input.sk-toggleable__control:checked~label.sk-toggleable__label-arrow:before {content: \"▾\";}#sk-container-id-10 div.sk-estimator input.sk-toggleable__control:checked~label.sk-toggleable__label {background-color: #d4ebff;}#sk-container-id-10 div.sk-label input.sk-toggleable__control:checked~label.sk-toggleable__label {background-color: #d4ebff;}#sk-container-id-10 input.sk-hidden--visually {border: 0;clip: rect(1px 1px 1px 1px);clip: rect(1px, 1px, 1px, 1px);height: 1px;margin: -1px;overflow: hidden;padding: 0;position: absolute;width: 1px;}#sk-container-id-10 div.sk-estimator {font-family: monospace;background-color: #f0f8ff;border: 1px dotted black;border-radius: 0.25em;box-sizing: border-box;margin-bottom: 0.5em;}#sk-container-id-10 div.sk-estimator:hover {background-color: #d4ebff;}#sk-container-id-10 div.sk-parallel-item::after {content: \"\";width: 100%;border-bottom: 1px solid gray;flex-grow: 1;}#sk-container-id-10 div.sk-label:hover label.sk-toggleable__label {background-color: #d4ebff;}#sk-container-id-10 div.sk-serial::before {content: \"\";position: absolute;border-left: 1px solid gray;box-sizing: border-box;top: 0;bottom: 0;left: 50%;z-index: 0;}#sk-container-id-10 div.sk-serial {display: flex;flex-direction: column;align-items: center;background-color: white;padding-right: 0.2em;padding-left: 0.2em;position: relative;}#sk-container-id-10 div.sk-item {position: relative;z-index: 1;}#sk-container-id-10 div.sk-parallel {display: flex;align-items: stretch;justify-content: center;background-color: white;position: relative;}#sk-container-id-10 div.sk-item::before, #sk-container-id-10 div.sk-parallel-item::before {content: \"\";position: absolute;border-left: 1px solid gray;box-sizing: border-box;top: 0;bottom: 0;left: 50%;z-index: -1;}#sk-container-id-10 div.sk-parallel-item {display: flex;flex-direction: column;z-index: 1;position: relative;background-color: white;}#sk-container-id-10 div.sk-parallel-item:first-child::after {align-self: flex-end;width: 50%;}#sk-container-id-10 div.sk-parallel-item:last-child::after {align-self: flex-start;width: 50%;}#sk-container-id-10 div.sk-parallel-item:only-child::after {width: 0;}#sk-container-id-10 div.sk-dashed-wrapped {border: 1px dashed gray;margin: 0 0.4em 0.5em 0.4em;box-sizing: border-box;padding-bottom: 0.4em;background-color: white;}#sk-container-id-10 div.sk-label label {font-family: monospace;font-weight: bold;display: inline-block;line-height: 1.2em;}#sk-container-id-10 div.sk-label-container {text-align: center;}#sk-container-id-10 div.sk-container {/* jupyter's `normalize.less` sets `[hidden] { display: none; }` but bootstrap.min.css set `[hidden] { display: none !important; }` so we also need the `!important` here to be able to override the default hidden behavior on the sphinx rendered scikit-learn.org. See: https://github.com/scikit-learn/scikit-learn/issues/21755 */display: inline-block !important;position: relative;}#sk-container-id-10 div.sk-text-repr-fallback {display: none;}</style><div id=\"sk-container-id-10\" class=\"sk-top-container\"><div class=\"sk-text-repr-fallback\"><pre>Pipeline(steps=[(&#x27;columntransformer&#x27;,\n",
       "                 ColumnTransformer(transformers=[(&#x27;polynomialfeatures&#x27;,\n",
       "                                                  PolynomialFeatures(degree=6,\n",
       "                                                                     include_bias=False),\n",
       "                                                  [&#x27;duration&#x27;, &#x27;days_left&#x27;]),\n",
       "                                                 (&#x27;onehotencoder&#x27;,\n",
       "                                                  OneHotEncoder(),\n",
       "                                                  [&#x27;airline&#x27;, &#x27;source_city&#x27;,\n",
       "                                                   &#x27;departure_time&#x27;, &#x27;stops&#x27;,\n",
       "                                                   &#x27;arrival_time&#x27;,\n",
       "                                                   &#x27;destination_city&#x27;,\n",
       "                                                   &#x27;class&#x27;])])),\n",
       "                (&#x27;standardscaler&#x27;, StandardScaler()),\n",
       "                (&#x27;transformedtargetregressor&#x27;,\n",
       "                 TransformedTargetRegressor(func=&lt;ufunc &#x27;log&#x27;&gt;,\n",
       "                                            inverse_func=&lt;ufunc &#x27;exp&#x27;&gt;,\n",
       "                                            regressor=Ridge(alpha=0.01)))])</pre><b>In a Jupyter environment, please rerun this cell to show the HTML representation or trust the notebook. <br />On GitHub, the HTML representation is unable to render, please try loading this page with nbviewer.org.</b></div><div class=\"sk-container\" hidden><div class=\"sk-item sk-dashed-wrapped\"><div class=\"sk-label-container\"><div class=\"sk-label sk-toggleable\"><input class=\"sk-toggleable__control sk-hidden--visually\" id=\"sk-estimator-id-77\" type=\"checkbox\" ><label for=\"sk-estimator-id-77\" class=\"sk-toggleable__label sk-toggleable__label-arrow\">Pipeline</label><div class=\"sk-toggleable__content\"><pre>Pipeline(steps=[(&#x27;columntransformer&#x27;,\n",
       "                 ColumnTransformer(transformers=[(&#x27;polynomialfeatures&#x27;,\n",
       "                                                  PolynomialFeatures(degree=6,\n",
       "                                                                     include_bias=False),\n",
       "                                                  [&#x27;duration&#x27;, &#x27;days_left&#x27;]),\n",
       "                                                 (&#x27;onehotencoder&#x27;,\n",
       "                                                  OneHotEncoder(),\n",
       "                                                  [&#x27;airline&#x27;, &#x27;source_city&#x27;,\n",
       "                                                   &#x27;departure_time&#x27;, &#x27;stops&#x27;,\n",
       "                                                   &#x27;arrival_time&#x27;,\n",
       "                                                   &#x27;destination_city&#x27;,\n",
       "                                                   &#x27;class&#x27;])])),\n",
       "                (&#x27;standardscaler&#x27;, StandardScaler()),\n",
       "                (&#x27;transformedtargetregressor&#x27;,\n",
       "                 TransformedTargetRegressor(func=&lt;ufunc &#x27;log&#x27;&gt;,\n",
       "                                            inverse_func=&lt;ufunc &#x27;exp&#x27;&gt;,\n",
       "                                            regressor=Ridge(alpha=0.01)))])</pre></div></div></div><div class=\"sk-serial\"><div class=\"sk-item sk-dashed-wrapped\"><div class=\"sk-label-container\"><div class=\"sk-label sk-toggleable\"><input class=\"sk-toggleable__control sk-hidden--visually\" id=\"sk-estimator-id-78\" type=\"checkbox\" ><label for=\"sk-estimator-id-78\" class=\"sk-toggleable__label sk-toggleable__label-arrow\">columntransformer: ColumnTransformer</label><div class=\"sk-toggleable__content\"><pre>ColumnTransformer(transformers=[(&#x27;polynomialfeatures&#x27;,\n",
       "                                 PolynomialFeatures(degree=6,\n",
       "                                                    include_bias=False),\n",
       "                                 [&#x27;duration&#x27;, &#x27;days_left&#x27;]),\n",
       "                                (&#x27;onehotencoder&#x27;, OneHotEncoder(),\n",
       "                                 [&#x27;airline&#x27;, &#x27;source_city&#x27;, &#x27;departure_time&#x27;,\n",
       "                                  &#x27;stops&#x27;, &#x27;arrival_time&#x27;, &#x27;destination_city&#x27;,\n",
       "                                  &#x27;class&#x27;])])</pre></div></div></div><div class=\"sk-parallel\"><div class=\"sk-parallel-item\"><div class=\"sk-item\"><div class=\"sk-label-container\"><div class=\"sk-label sk-toggleable\"><input class=\"sk-toggleable__control sk-hidden--visually\" id=\"sk-estimator-id-79\" type=\"checkbox\" ><label for=\"sk-estimator-id-79\" class=\"sk-toggleable__label sk-toggleable__label-arrow\">polynomialfeatures</label><div class=\"sk-toggleable__content\"><pre>[&#x27;duration&#x27;, &#x27;days_left&#x27;]</pre></div></div></div><div class=\"sk-serial\"><div class=\"sk-item\"><div class=\"sk-estimator sk-toggleable\"><input class=\"sk-toggleable__control sk-hidden--visually\" id=\"sk-estimator-id-80\" type=\"checkbox\" ><label for=\"sk-estimator-id-80\" class=\"sk-toggleable__label sk-toggleable__label-arrow\">PolynomialFeatures</label><div class=\"sk-toggleable__content\"><pre>PolynomialFeatures(degree=6, include_bias=False)</pre></div></div></div></div></div></div><div class=\"sk-parallel-item\"><div class=\"sk-item\"><div class=\"sk-label-container\"><div class=\"sk-label sk-toggleable\"><input class=\"sk-toggleable__control sk-hidden--visually\" id=\"sk-estimator-id-81\" type=\"checkbox\" ><label for=\"sk-estimator-id-81\" class=\"sk-toggleable__label sk-toggleable__label-arrow\">onehotencoder</label><div class=\"sk-toggleable__content\"><pre>[&#x27;airline&#x27;, &#x27;source_city&#x27;, &#x27;departure_time&#x27;, &#x27;stops&#x27;, &#x27;arrival_time&#x27;, &#x27;destination_city&#x27;, &#x27;class&#x27;]</pre></div></div></div><div class=\"sk-serial\"><div class=\"sk-item\"><div class=\"sk-estimator sk-toggleable\"><input class=\"sk-toggleable__control sk-hidden--visually\" id=\"sk-estimator-id-82\" type=\"checkbox\" ><label for=\"sk-estimator-id-82\" class=\"sk-toggleable__label sk-toggleable__label-arrow\">OneHotEncoder</label><div class=\"sk-toggleable__content\"><pre>OneHotEncoder()</pre></div></div></div></div></div></div></div></div><div class=\"sk-item\"><div class=\"sk-estimator sk-toggleable\"><input class=\"sk-toggleable__control sk-hidden--visually\" id=\"sk-estimator-id-83\" type=\"checkbox\" ><label for=\"sk-estimator-id-83\" class=\"sk-toggleable__label sk-toggleable__label-arrow\">StandardScaler</label><div class=\"sk-toggleable__content\"><pre>StandardScaler()</pre></div></div></div><div class=\"sk-item sk-dashed-wrapped\"><div class=\"sk-label-container\"><div class=\"sk-label sk-toggleable\"><input class=\"sk-toggleable__control sk-hidden--visually\" id=\"sk-estimator-id-84\" type=\"checkbox\" ><label for=\"sk-estimator-id-84\" class=\"sk-toggleable__label sk-toggleable__label-arrow\">transformedtargetregressor: TransformedTargetRegressor</label><div class=\"sk-toggleable__content\"><pre>TransformedTargetRegressor(func=&lt;ufunc &#x27;log&#x27;&gt;, inverse_func=&lt;ufunc &#x27;exp&#x27;&gt;,\n",
       "                           regressor=Ridge(alpha=0.01))</pre></div></div></div><div class=\"sk-parallel\"><div class=\"sk-parallel-item\"><div class=\"sk-item\"><div class=\"sk-label-container\"><div class=\"sk-label sk-toggleable\"><input class=\"sk-toggleable__control sk-hidden--visually\" id=\"sk-estimator-id-85\" type=\"checkbox\" ><label for=\"sk-estimator-id-85\" class=\"sk-toggleable__label sk-toggleable__label-arrow\">regressor: Ridge</label><div class=\"sk-toggleable__content\"><pre>Ridge(alpha=0.01)</pre></div></div></div><div class=\"sk-serial\"><div class=\"sk-item\"><div class=\"sk-estimator sk-toggleable\"><input class=\"sk-toggleable__control sk-hidden--visually\" id=\"sk-estimator-id-86\" type=\"checkbox\" ><label for=\"sk-estimator-id-86\" class=\"sk-toggleable__label sk-toggleable__label-arrow\">Ridge</label><div class=\"sk-toggleable__content\"><pre>Ridge(alpha=0.01)</pre></div></div></div></div></div></div></div></div></div></div></div></div>"
      ],
      "text/plain": [
       "Pipeline(steps=[('columntransformer',\n",
       "                 ColumnTransformer(transformers=[('polynomialfeatures',\n",
       "                                                  PolynomialFeatures(degree=6,\n",
       "                                                                     include_bias=False),\n",
       "                                                  ['duration', 'days_left']),\n",
       "                                                 ('onehotencoder',\n",
       "                                                  OneHotEncoder(),\n",
       "                                                  ['airline', 'source_city',\n",
       "                                                   'departure_time', 'stops',\n",
       "                                                   'arrival_time',\n",
       "                                                   'destination_city',\n",
       "                                                   'class'])])),\n",
       "                ('standardscaler', StandardScaler()),\n",
       "                ('transformedtargetregressor',\n",
       "                 TransformedTargetRegressor(func=<ufunc 'log'>,\n",
       "                                            inverse_func=<ufunc 'exp'>,\n",
       "                                            regressor=Ridge(alpha=0.01)))])"
      ]
     },
     "execution_count": 646,
     "metadata": {},
     "output_type": "execute_result"
    }
   ],
   "source": [
    "# Pipeline of the best model that we found\n",
    "model_f3.fit(X_train, y_train)"
   ]
  },
  {
   "cell_type": "code",
   "execution_count": 647,
   "metadata": {},
   "outputs": [
    {
     "name": "stdout",
     "output_type": "stream",
     "text": [
      "Retraining RMSE: 8388.25\n",
      "Retraining MAPE: 24.01%\n",
      "      Test RMSE: 8388.25\n",
      "      Test MAPE: 24.01%\n"
     ]
    }
   ],
   "source": [
    "# Validation dataset + Train dataset\n",
    "df_retr = pd.concat([df_train, df_val])\n",
    "\n",
    "#Separando a variável alvo\n",
    "X_retr = df_retr.iloc[:,:-1]\n",
    "y_retr = df_retr.iloc[:,-1]\n",
    "\n",
    "# Retraining with the best model that we found\n",
    "model_f3.fit(X_retr, y_retr)\n",
    "\n",
    "print(f'Retraining RMSE: {root_mean_squared_error(y_retr, model_f3.predict(X_retr)):.2f}') \n",
    "print(f'Retraining MAPE: {mean_absolute_percentage_error(y_retr, model_f3.predict(X_retr)):.2%}')\n",
    "print(f'      Test RMSE: {root_mean_squared_error(y_retr, model_f3.predict(X_retr)):.2f}')\n",
    "print(f'      Test MAPE: {mean_absolute_percentage_error(y_retr, model_f3.predict(X_retr)):.2%}')"
   ]
  },
  {
   "cell_type": "code",
   "execution_count": 648,
   "metadata": {},
   "outputs": [
    {
     "name": "stdout",
     "output_type": "stream",
     "text": [
      "Retraining RMSE: 6750.36\n",
      "Retraining MAPE: 46.18%\n",
      "      Test RMSE: 6750.36\n",
      "      Test MAPE: 46.18%\n"
     ]
    }
   ],
   "source": [
    "# Baseline\n",
    "model_c.fit(X_retr, y_retr)\n",
    "\n",
    "print(f'Retraining RMSE: {root_mean_squared_error(y_retr, model_c.predict(X_retr)):.2f}') \n",
    "print(f'Retraining MAPE: {mean_absolute_percentage_error(y_retr, model_c.predict(X_retr)):.2%}')\n",
    "print(f'      Test RMSE: {root_mean_squared_error(y_retr, model_c.predict(X_retr)):.2f}')\n",
    "print(f'      Test MAPE: {mean_absolute_percentage_error(y_retr, model_c.predict(X_retr)):.2%}')"
   ]
  },
  {
   "cell_type": "markdown",
   "metadata": {},
   "source": [
    "## Result analysis"
   ]
  },
  {
   "cell_type": "code",
   "execution_count": 649,
   "metadata": {},
   "outputs": [],
   "source": [
    "# Flight price prediction\n",
    "y_pred = model_f3.predict(X_test)"
   ]
  },
  {
   "cell_type": "code",
   "execution_count": 650,
   "metadata": {},
   "outputs": [],
   "source": [
    "# Dataframe of the flight price prediction\n",
    "pred_price = pd.DataFrame(data=y_pred, columns=['Predicted Price'])\n",
    "\n",
    "# Dataframe of the percent diference between the real price vs predicted price: [(predicted price/real price) - 1]*100\n",
    "relative_price = pd.DataFrame(data=np.array(((y_test/y_pred)-1)*100), columns=['Relative Price (Percent Difference)'])\n"
   ]
  },
  {
   "cell_type": "code",
   "execution_count": 651,
   "metadata": {},
   "outputs": [
    {
     "data": {
      "text/html": [
       "<div>\n",
       "<style scoped>\n",
       "    .dataframe tbody tr th:only-of-type {\n",
       "        vertical-align: middle;\n",
       "    }\n",
       "\n",
       "    .dataframe tbody tr th {\n",
       "        vertical-align: top;\n",
       "    }\n",
       "\n",
       "    .dataframe thead th {\n",
       "        text-align: right;\n",
       "    }\n",
       "</style>\n",
       "<table border=\"1\" class=\"dataframe\">\n",
       "  <thead>\n",
       "    <tr style=\"text-align: right;\">\n",
       "      <th></th>\n",
       "      <th>index</th>\n",
       "      <th>airline</th>\n",
       "      <th>source_city</th>\n",
       "      <th>departure_time</th>\n",
       "      <th>stops</th>\n",
       "      <th>arrival_time</th>\n",
       "      <th>destination_city</th>\n",
       "      <th>class</th>\n",
       "      <th>duration</th>\n",
       "      <th>days_left</th>\n",
       "      <th>price</th>\n",
       "      <th>Predicted Price</th>\n",
       "      <th>Relative Price (Percent Difference)</th>\n",
       "    </tr>\n",
       "  </thead>\n",
       "  <tbody>\n",
       "    <tr>\n",
       "      <th>0</th>\n",
       "      <td>195202</td>\n",
       "      <td>Vistara</td>\n",
       "      <td>Chennai</td>\n",
       "      <td>Night</td>\n",
       "      <td>one</td>\n",
       "      <td>Night</td>\n",
       "      <td>Bangalore</td>\n",
       "      <td>Economy</td>\n",
       "      <td>24.42</td>\n",
       "      <td>20</td>\n",
       "      <td>4755</td>\n",
       "      <td>6777.490708</td>\n",
       "      <td>-29.841291</td>\n",
       "    </tr>\n",
       "    <tr>\n",
       "      <th>1</th>\n",
       "      <td>264100</td>\n",
       "      <td>Vistara</td>\n",
       "      <td>Kolkata</td>\n",
       "      <td>Morning</td>\n",
       "      <td>two_or_more</td>\n",
       "      <td>Night</td>\n",
       "      <td>Mumbai</td>\n",
       "      <td>Business</td>\n",
       "      <td>11.33</td>\n",
       "      <td>4</td>\n",
       "      <td>65632</td>\n",
       "      <td>127289.179528</td>\n",
       "      <td>-48.438665</td>\n",
       "    </tr>\n",
       "    <tr>\n",
       "      <th>2</th>\n",
       "      <td>139816</td>\n",
       "      <td>Indigo</td>\n",
       "      <td>Kolkata</td>\n",
       "      <td>Evening</td>\n",
       "      <td>one</td>\n",
       "      <td>Late_Night</td>\n",
       "      <td>Bangalore</td>\n",
       "      <td>Economy</td>\n",
       "      <td>5.17</td>\n",
       "      <td>32</td>\n",
       "      <td>3465</td>\n",
       "      <td>4690.652449</td>\n",
       "      <td>-26.129679</td>\n",
       "    </tr>\n",
       "    <tr>\n",
       "      <th>3</th>\n",
       "      <td>15039</td>\n",
       "      <td>SpiceJet</td>\n",
       "      <td>Delhi</td>\n",
       "      <td>Early_Morning</td>\n",
       "      <td>zero</td>\n",
       "      <td>Morning</td>\n",
       "      <td>Bangalore</td>\n",
       "      <td>Economy</td>\n",
       "      <td>2.50</td>\n",
       "      <td>26</td>\n",
       "      <td>4721</td>\n",
       "      <td>3230.244608</td>\n",
       "      <td>46.149923</td>\n",
       "    </tr>\n",
       "    <tr>\n",
       "      <th>4</th>\n",
       "      <td>90781</td>\n",
       "      <td>Air_India</td>\n",
       "      <td>Bangalore</td>\n",
       "      <td>Evening</td>\n",
       "      <td>one</td>\n",
       "      <td>Night</td>\n",
       "      <td>Delhi</td>\n",
       "      <td>Economy</td>\n",
       "      <td>25.25</td>\n",
       "      <td>34</td>\n",
       "      <td>4294</td>\n",
       "      <td>5543.180777</td>\n",
       "      <td>-22.535451</td>\n",
       "    </tr>\n",
       "    <tr>\n",
       "      <th>...</th>\n",
       "      <td>...</td>\n",
       "      <td>...</td>\n",
       "      <td>...</td>\n",
       "      <td>...</td>\n",
       "      <td>...</td>\n",
       "      <td>...</td>\n",
       "      <td>...</td>\n",
       "      <td>...</td>\n",
       "      <td>...</td>\n",
       "      <td>...</td>\n",
       "      <td>...</td>\n",
       "      <td>...</td>\n",
       "      <td>...</td>\n",
       "    </tr>\n",
       "    <tr>\n",
       "      <th>59583</th>\n",
       "      <td>129558</td>\n",
       "      <td>Vistara</td>\n",
       "      <td>Kolkata</td>\n",
       "      <td>Morning</td>\n",
       "      <td>one</td>\n",
       "      <td>Evening</td>\n",
       "      <td>Mumbai</td>\n",
       "      <td>Economy</td>\n",
       "      <td>6.25</td>\n",
       "      <td>15</td>\n",
       "      <td>11675</td>\n",
       "      <td>9613.683269</td>\n",
       "      <td>21.441488</td>\n",
       "    </tr>\n",
       "    <tr>\n",
       "      <th>59584</th>\n",
       "      <td>215847</td>\n",
       "      <td>Air_India</td>\n",
       "      <td>Delhi</td>\n",
       "      <td>Evening</td>\n",
       "      <td>one</td>\n",
       "      <td>Night</td>\n",
       "      <td>Kolkata</td>\n",
       "      <td>Business</td>\n",
       "      <td>5.67</td>\n",
       "      <td>1</td>\n",
       "      <td>62270</td>\n",
       "      <td>93568.304704</td>\n",
       "      <td>-33.449687</td>\n",
       "    </tr>\n",
       "    <tr>\n",
       "      <th>59585</th>\n",
       "      <td>168876</td>\n",
       "      <td>Vistara</td>\n",
       "      <td>Hyderabad</td>\n",
       "      <td>Morning</td>\n",
       "      <td>one</td>\n",
       "      <td>Evening</td>\n",
       "      <td>Bangalore</td>\n",
       "      <td>Economy</td>\n",
       "      <td>7.25</td>\n",
       "      <td>33</td>\n",
       "      <td>7708</td>\n",
       "      <td>6117.820613</td>\n",
       "      <td>25.992580</td>\n",
       "    </tr>\n",
       "    <tr>\n",
       "      <th>59586</th>\n",
       "      <td>37472</td>\n",
       "      <td>Indigo</td>\n",
       "      <td>Delhi</td>\n",
       "      <td>Early_Morning</td>\n",
       "      <td>one</td>\n",
       "      <td>Afternoon</td>\n",
       "      <td>Chennai</td>\n",
       "      <td>Economy</td>\n",
       "      <td>8.33</td>\n",
       "      <td>17</td>\n",
       "      <td>3684</td>\n",
       "      <td>5546.237423</td>\n",
       "      <td>-33.576590</td>\n",
       "    </tr>\n",
       "    <tr>\n",
       "      <th>59587</th>\n",
       "      <td>262030</td>\n",
       "      <td>Vistara</td>\n",
       "      <td>Kolkata</td>\n",
       "      <td>Early_Morning</td>\n",
       "      <td>zero</td>\n",
       "      <td>Morning</td>\n",
       "      <td>Delhi</td>\n",
       "      <td>Business</td>\n",
       "      <td>2.42</td>\n",
       "      <td>15</td>\n",
       "      <td>28510</td>\n",
       "      <td>44416.023232</td>\n",
       "      <td>-35.811453</td>\n",
       "    </tr>\n",
       "  </tbody>\n",
       "</table>\n",
       "<p>59588 rows × 13 columns</p>\n",
       "</div>"
      ],
      "text/plain": [
       "        index    airline source_city departure_time        stops arrival_time  \\\n",
       "0      195202    Vistara     Chennai          Night          one        Night   \n",
       "1      264100    Vistara     Kolkata        Morning  two_or_more        Night   \n",
       "2      139816     Indigo     Kolkata        Evening          one   Late_Night   \n",
       "3       15039   SpiceJet       Delhi  Early_Morning         zero      Morning   \n",
       "4       90781  Air_India   Bangalore        Evening          one        Night   \n",
       "...       ...        ...         ...            ...          ...          ...   \n",
       "59583  129558    Vistara     Kolkata        Morning          one      Evening   \n",
       "59584  215847  Air_India       Delhi        Evening          one        Night   \n",
       "59585  168876    Vistara   Hyderabad        Morning          one      Evening   \n",
       "59586   37472     Indigo       Delhi  Early_Morning          one    Afternoon   \n",
       "59587  262030    Vistara     Kolkata  Early_Morning         zero      Morning   \n",
       "\n",
       "      destination_city     class  duration  days_left  price  Predicted Price  \\\n",
       "0            Bangalore   Economy     24.42         20   4755      6777.490708   \n",
       "1               Mumbai  Business     11.33          4  65632    127289.179528   \n",
       "2            Bangalore   Economy      5.17         32   3465      4690.652449   \n",
       "3            Bangalore   Economy      2.50         26   4721      3230.244608   \n",
       "4                Delhi   Economy     25.25         34   4294      5543.180777   \n",
       "...                ...       ...       ...        ...    ...              ...   \n",
       "59583           Mumbai   Economy      6.25         15  11675      9613.683269   \n",
       "59584          Kolkata  Business      5.67          1  62270     93568.304704   \n",
       "59585        Bangalore   Economy      7.25         33   7708      6117.820613   \n",
       "59586          Chennai   Economy      8.33         17   3684      5546.237423   \n",
       "59587            Delhi  Business      2.42         15  28510     44416.023232   \n",
       "\n",
       "       Relative Price (Percent Difference)  \n",
       "0                               -29.841291  \n",
       "1                               -48.438665  \n",
       "2                               -26.129679  \n",
       "3                                46.149923  \n",
       "4                               -22.535451  \n",
       "...                                    ...  \n",
       "59583                            21.441488  \n",
       "59584                           -33.449687  \n",
       "59585                            25.992580  \n",
       "59586                           -33.576590  \n",
       "59587                           -35.811453  \n",
       "\n",
       "[59588 rows x 13 columns]"
      ]
     },
     "execution_count": 651,
     "metadata": {},
     "output_type": "execute_result"
    }
   ],
   "source": [
    "# Joining dataframes for better visualization\n",
    "intermediate_df = pred_price.join(relative_price)\n",
    "final_df = df_test.reset_index().join(intermediate_df)\n",
    "\n",
    "final_df"
   ]
  },
  {
   "cell_type": "markdown",
   "metadata": {},
   "source": [
    "- Observation: was necessary use reset_index in the X_test for doesn't return NaN values on the predicted price and relative price columns"
   ]
  },
  {
   "cell_type": "code",
   "execution_count": 652,
   "metadata": {},
   "outputs": [],
   "source": [
    "final_df = clean(final_df, ['index'])"
   ]
  },
  {
   "cell_type": "markdown",
   "metadata": {},
   "source": [
    "### 3 flight prices with biggest discounts\n"
   ]
  },
  {
   "cell_type": "code",
   "execution_count": 653,
   "metadata": {},
   "outputs": [
    {
     "data": {
      "text/html": [
       "<div>\n",
       "<style scoped>\n",
       "    .dataframe tbody tr th:only-of-type {\n",
       "        vertical-align: middle;\n",
       "    }\n",
       "\n",
       "    .dataframe tbody tr th {\n",
       "        vertical-align: top;\n",
       "    }\n",
       "\n",
       "    .dataframe thead th {\n",
       "        text-align: right;\n",
       "    }\n",
       "</style>\n",
       "<table border=\"1\" class=\"dataframe\">\n",
       "  <thead>\n",
       "    <tr style=\"text-align: right;\">\n",
       "      <th></th>\n",
       "      <th>airline</th>\n",
       "      <th>source_city</th>\n",
       "      <th>departure_time</th>\n",
       "      <th>stops</th>\n",
       "      <th>arrival_time</th>\n",
       "      <th>destination_city</th>\n",
       "      <th>class</th>\n",
       "      <th>duration</th>\n",
       "      <th>days_left</th>\n",
       "      <th>price</th>\n",
       "      <th>Predicted Price</th>\n",
       "      <th>Relative Price (Percent Difference)</th>\n",
       "    </tr>\n",
       "  </thead>\n",
       "  <tbody>\n",
       "    <tr>\n",
       "      <th>48879</th>\n",
       "      <td>Indigo</td>\n",
       "      <td>Chennai</td>\n",
       "      <td>Morning</td>\n",
       "      <td>one</td>\n",
       "      <td>Evening</td>\n",
       "      <td>Hyderabad</td>\n",
       "      <td>Economy</td>\n",
       "      <td>8.83</td>\n",
       "      <td>33</td>\n",
       "      <td>1105</td>\n",
       "      <td>4453.403866</td>\n",
       "      <td>-75.187519</td>\n",
       "    </tr>\n",
       "    <tr>\n",
       "      <th>22752</th>\n",
       "      <td>Indigo</td>\n",
       "      <td>Chennai</td>\n",
       "      <td>Morning</td>\n",
       "      <td>one</td>\n",
       "      <td>Evening</td>\n",
       "      <td>Hyderabad</td>\n",
       "      <td>Economy</td>\n",
       "      <td>8.83</td>\n",
       "      <td>32</td>\n",
       "      <td>1105</td>\n",
       "      <td>4440.938432</td>\n",
       "      <td>-75.117872</td>\n",
       "    </tr>\n",
       "    <tr>\n",
       "      <th>4320</th>\n",
       "      <td>Indigo</td>\n",
       "      <td>Chennai</td>\n",
       "      <td>Morning</td>\n",
       "      <td>one</td>\n",
       "      <td>Evening</td>\n",
       "      <td>Hyderabad</td>\n",
       "      <td>Economy</td>\n",
       "      <td>7.92</td>\n",
       "      <td>32</td>\n",
       "      <td>1105</td>\n",
       "      <td>4373.534453</td>\n",
       "      <td>-74.734394</td>\n",
       "    </tr>\n",
       "  </tbody>\n",
       "</table>\n",
       "</div>"
      ],
      "text/plain": [
       "      airline source_city departure_time stops arrival_time destination_city  \\\n",
       "48879  Indigo     Chennai        Morning   one      Evening        Hyderabad   \n",
       "22752  Indigo     Chennai        Morning   one      Evening        Hyderabad   \n",
       "4320   Indigo     Chennai        Morning   one      Evening        Hyderabad   \n",
       "\n",
       "         class  duration  days_left  price  Predicted Price  \\\n",
       "48879  Economy      8.83         33   1105      4453.403866   \n",
       "22752  Economy      8.83         32   1105      4440.938432   \n",
       "4320   Economy      7.92         32   1105      4373.534453   \n",
       "\n",
       "       Relative Price (Percent Difference)  \n",
       "48879                           -75.187519  \n",
       "22752                           -75.117872  \n",
       "4320                            -74.734394  "
      ]
     },
     "execution_count": 653,
     "metadata": {},
     "output_type": "execute_result"
    }
   ],
   "source": [
    "final_df.sort_values(by='Relative Price (Percent Difference)', ascending=True).head(3)"
   ]
  },
  {
   "cell_type": "markdown",
   "metadata": {},
   "source": [
    "### 3 more expensive flight prices (in percent)"
   ]
  },
  {
   "cell_type": "code",
   "execution_count": 654,
   "metadata": {},
   "outputs": [
    {
     "data": {
      "text/html": [
       "<div>\n",
       "<style scoped>\n",
       "    .dataframe tbody tr th:only-of-type {\n",
       "        vertical-align: middle;\n",
       "    }\n",
       "\n",
       "    .dataframe tbody tr th {\n",
       "        vertical-align: top;\n",
       "    }\n",
       "\n",
       "    .dataframe thead th {\n",
       "        text-align: right;\n",
       "    }\n",
       "</style>\n",
       "<table border=\"1\" class=\"dataframe\">\n",
       "  <thead>\n",
       "    <tr style=\"text-align: right;\">\n",
       "      <th></th>\n",
       "      <th>airline</th>\n",
       "      <th>source_city</th>\n",
       "      <th>departure_time</th>\n",
       "      <th>stops</th>\n",
       "      <th>arrival_time</th>\n",
       "      <th>destination_city</th>\n",
       "      <th>class</th>\n",
       "      <th>duration</th>\n",
       "      <th>days_left</th>\n",
       "      <th>price</th>\n",
       "      <th>Predicted Price</th>\n",
       "      <th>Relative Price (Percent Difference)</th>\n",
       "    </tr>\n",
       "  </thead>\n",
       "  <tbody>\n",
       "    <tr>\n",
       "      <th>37180</th>\n",
       "      <td>Indigo</td>\n",
       "      <td>Mumbai</td>\n",
       "      <td>Afternoon</td>\n",
       "      <td>zero</td>\n",
       "      <td>Afternoon</td>\n",
       "      <td>Delhi</td>\n",
       "      <td>Economy</td>\n",
       "      <td>2.17</td>\n",
       "      <td>44</td>\n",
       "      <td>21058</td>\n",
       "      <td>2495.607174</td>\n",
       "      <td>743.802671</td>\n",
       "    </tr>\n",
       "    <tr>\n",
       "      <th>24609</th>\n",
       "      <td>AirAsia</td>\n",
       "      <td>Mumbai</td>\n",
       "      <td>Early_Morning</td>\n",
       "      <td>one</td>\n",
       "      <td>Evening</td>\n",
       "      <td>Delhi</td>\n",
       "      <td>Economy</td>\n",
       "      <td>13.42</td>\n",
       "      <td>16</td>\n",
       "      <td>28457</td>\n",
       "      <td>4078.734496</td>\n",
       "      <td>597.691895</td>\n",
       "    </tr>\n",
       "    <tr>\n",
       "      <th>1476</th>\n",
       "      <td>AirAsia</td>\n",
       "      <td>Mumbai</td>\n",
       "      <td>Early_Morning</td>\n",
       "      <td>one</td>\n",
       "      <td>Evening</td>\n",
       "      <td>Delhi</td>\n",
       "      <td>Economy</td>\n",
       "      <td>14.58</td>\n",
       "      <td>9</td>\n",
       "      <td>31799</td>\n",
       "      <td>5080.199210</td>\n",
       "      <td>525.940021</td>\n",
       "    </tr>\n",
       "  </tbody>\n",
       "</table>\n",
       "</div>"
      ],
      "text/plain": [
       "       airline source_city departure_time stops arrival_time destination_city  \\\n",
       "37180   Indigo      Mumbai      Afternoon  zero    Afternoon            Delhi   \n",
       "24609  AirAsia      Mumbai  Early_Morning   one      Evening            Delhi   \n",
       "1476   AirAsia      Mumbai  Early_Morning   one      Evening            Delhi   \n",
       "\n",
       "         class  duration  days_left  price  Predicted Price  \\\n",
       "37180  Economy      2.17         44  21058      2495.607174   \n",
       "24609  Economy     13.42         16  28457      4078.734496   \n",
       "1476   Economy     14.58          9  31799      5080.199210   \n",
       "\n",
       "       Relative Price (Percent Difference)  \n",
       "37180                           743.802671  \n",
       "24609                           597.691895  \n",
       "1476                            525.940021  "
      ]
     },
     "execution_count": 654,
     "metadata": {},
     "output_type": "execute_result"
    }
   ],
   "source": [
    "final_df.sort_values(by='Relative Price (Percent Difference)', ascending=False).head(3)"
   ]
  },
  {
   "cell_type": "markdown",
   "metadata": {},
   "source": [
    "### Predicted Price x Real Prices"
   ]
  },
  {
   "cell_type": "code",
   "execution_count": 655,
   "metadata": {},
   "outputs": [
    {
     "data": {
      "image/png": "[encoded data removed]",
      "text/plain": [
       "<Figure size 936x504 with 1 Axes>"
      ]
     },
     "metadata": {
      "needs_background": "light"
     },
     "output_type": "display_data"
    }
   ],
   "source": [
    "plt.figure(figsize=(13,7))\n",
    "plt.plot(y_test, y_pred, 'r.', label='Predicted Prices')\n",
    "plt.plot(y_test, y_test, 'b.', label='Real Prices')\n",
    "plt.ylabel('Predicted Prices');\n",
    "plt.xlabel('Real Prices');\n",
    "plt.grid();"
   ]
  },
  {
   "cell_type": "markdown",
   "metadata": {},
   "source": [
    "### Finding the 3 most important categorical features and the most important numerical feature"
   ]
  },
  {
   "cell_type": "code",
   "execution_count": 656,
   "metadata": {},
   "outputs": [
    {
     "name": "stdout",
     "output_type": "stream",
     "text": [
      "['airline_AirAsia' 'airline_Air_India' 'airline_GO_FIRST' 'airline_Indigo'\n",
      " 'airline_SpiceJet' 'airline_Vistara' 'source_city_Bangalore'\n",
      " 'source_city_Chennai' 'source_city_Delhi' 'source_city_Hyderabad'\n",
      " 'source_city_Kolkata' 'source_city_Mumbai' 'departure_time_Afternoon'\n",
      " 'departure_time_Early_Morning' 'departure_time_Evening'\n",
      " 'departure_time_Late_Night' 'departure_time_Morning'\n",
      " 'departure_time_Night' 'stops_one' 'stops_two_or_more' 'stops_zero'\n",
      " 'arrival_time_Afternoon' 'arrival_time_Early_Morning'\n",
      " 'arrival_time_Evening' 'arrival_time_Late_Night' 'arrival_time_Morning'\n",
      " 'arrival_time_Night' 'destination_city_Bangalore'\n",
      " 'destination_city_Chennai' 'destination_city_Delhi'\n",
      " 'destination_city_Hyderabad' 'destination_city_Kolkata'\n",
      " 'destination_city_Mumbai' 'class_Business' 'class_Economy' 'duration'\n",
      " 'days_left']\n",
      "[-1.67139472e+03 -1.58293386e+03 -8.78866702e+00  3.88944464e+02\n",
      "  4.76270009e+02  2.39790278e+03  3.02736275e+02  2.44314351e+02\n",
      " -1.09010507e+03 -1.38597713e+03  1.86158709e+03  6.74444831e+01\n",
      " -8.13377817e+02  2.61864054e+01 -7.42004370e+01  9.44020042e+02\n",
      "  3.56491564e+01 -1.18277350e+02  1.87271908e+03  3.93772038e+03\n",
      " -5.81043946e+03 -4.36263160e+02 -1.24850306e+03  4.79047518e+02\n",
      "  4.51411735e+02  3.84056800e+01  7.15901287e+02  3.64093801e+02\n",
      "  1.61853271e+02 -1.19769668e+03 -1.38448079e+03  1.73389263e+03\n",
      "  3.22337765e+02  2.24804553e+04 -2.24804553e+04  4.14717146e+01\n",
      " -1.30703393e+02]\n"
     ]
    }
   ],
   "source": [
    "cat_name = model_c[0].transformers_[0][1].get_feature_names_out()\n",
    "num_name = ['duration', 'days_left']\n",
    "\n",
    "# List of all features\n",
    "variables_name = np.concatenate((cat_name,num_name), axis=None)\n",
    "\n",
    "# Weights/coeficients from the regression\n",
    "importance = model_c[1].coef_\n",
    "\n",
    "print(variables_name)\n",
    "print(importance)"
   ]
  },
  {
   "cell_type": "markdown",
   "metadata": {},
   "source": [
    "- features_importance"
   ]
  },
  {
   "cell_type": "code",
   "execution_count": 657,
   "metadata": {},
   "outputs": [
    {
     "data": {
      "text/html": [
       "<div>\n",
       "<style scoped>\n",
       "    .dataframe tbody tr th:only-of-type {\n",
       "        vertical-align: middle;\n",
       "    }\n",
       "\n",
       "    .dataframe tbody tr th {\n",
       "        vertical-align: top;\n",
       "    }\n",
       "\n",
       "    .dataframe thead th {\n",
       "        text-align: right;\n",
       "    }\n",
       "</style>\n",
       "<table border=\"1\" class=\"dataframe\">\n",
       "  <thead>\n",
       "    <tr style=\"text-align: right;\">\n",
       "      <th></th>\n",
       "      <th>Name_coef</th>\n",
       "      <th>Coefficient Values</th>\n",
       "    </tr>\n",
       "  </thead>\n",
       "  <tbody>\n",
       "    <tr>\n",
       "      <th>0</th>\n",
       "      <td>airline_AirAsia</td>\n",
       "      <td>-1671.394721</td>\n",
       "    </tr>\n",
       "    <tr>\n",
       "      <th>1</th>\n",
       "      <td>airline_Air_India</td>\n",
       "      <td>-1582.933862</td>\n",
       "    </tr>\n",
       "    <tr>\n",
       "      <th>2</th>\n",
       "      <td>airline_GO_FIRST</td>\n",
       "      <td>-8.788667</td>\n",
       "    </tr>\n",
       "    <tr>\n",
       "      <th>3</th>\n",
       "      <td>airline_Indigo</td>\n",
       "      <td>388.944464</td>\n",
       "    </tr>\n",
       "    <tr>\n",
       "      <th>4</th>\n",
       "      <td>airline_SpiceJet</td>\n",
       "      <td>476.270009</td>\n",
       "    </tr>\n",
       "    <tr>\n",
       "      <th>5</th>\n",
       "      <td>airline_Vistara</td>\n",
       "      <td>2397.902777</td>\n",
       "    </tr>\n",
       "    <tr>\n",
       "      <th>6</th>\n",
       "      <td>source_city_Bangalore</td>\n",
       "      <td>302.736275</td>\n",
       "    </tr>\n",
       "    <tr>\n",
       "      <th>7</th>\n",
       "      <td>source_city_Chennai</td>\n",
       "      <td>244.314351</td>\n",
       "    </tr>\n",
       "    <tr>\n",
       "      <th>8</th>\n",
       "      <td>source_city_Delhi</td>\n",
       "      <td>-1090.105071</td>\n",
       "    </tr>\n",
       "    <tr>\n",
       "      <th>9</th>\n",
       "      <td>source_city_Hyderabad</td>\n",
       "      <td>-1385.977132</td>\n",
       "    </tr>\n",
       "    <tr>\n",
       "      <th>10</th>\n",
       "      <td>source_city_Kolkata</td>\n",
       "      <td>1861.587094</td>\n",
       "    </tr>\n",
       "    <tr>\n",
       "      <th>11</th>\n",
       "      <td>source_city_Mumbai</td>\n",
       "      <td>67.444483</td>\n",
       "    </tr>\n",
       "    <tr>\n",
       "      <th>12</th>\n",
       "      <td>departure_time_Afternoon</td>\n",
       "      <td>-813.377817</td>\n",
       "    </tr>\n",
       "    <tr>\n",
       "      <th>13</th>\n",
       "      <td>departure_time_Early_Morning</td>\n",
       "      <td>26.186405</td>\n",
       "    </tr>\n",
       "    <tr>\n",
       "      <th>14</th>\n",
       "      <td>departure_time_Evening</td>\n",
       "      <td>-74.200437</td>\n",
       "    </tr>\n",
       "    <tr>\n",
       "      <th>15</th>\n",
       "      <td>departure_time_Late_Night</td>\n",
       "      <td>944.020042</td>\n",
       "    </tr>\n",
       "    <tr>\n",
       "      <th>16</th>\n",
       "      <td>departure_time_Morning</td>\n",
       "      <td>35.649156</td>\n",
       "    </tr>\n",
       "    <tr>\n",
       "      <th>17</th>\n",
       "      <td>departure_time_Night</td>\n",
       "      <td>-118.277350</td>\n",
       "    </tr>\n",
       "    <tr>\n",
       "      <th>18</th>\n",
       "      <td>stops_one</td>\n",
       "      <td>1872.719085</td>\n",
       "    </tr>\n",
       "    <tr>\n",
       "      <th>19</th>\n",
       "      <td>stops_two_or_more</td>\n",
       "      <td>3937.720375</td>\n",
       "    </tr>\n",
       "    <tr>\n",
       "      <th>20</th>\n",
       "      <td>stops_zero</td>\n",
       "      <td>-5810.439460</td>\n",
       "    </tr>\n",
       "    <tr>\n",
       "      <th>21</th>\n",
       "      <td>arrival_time_Afternoon</td>\n",
       "      <td>-436.263160</td>\n",
       "    </tr>\n",
       "    <tr>\n",
       "      <th>22</th>\n",
       "      <td>arrival_time_Early_Morning</td>\n",
       "      <td>-1248.503060</td>\n",
       "    </tr>\n",
       "    <tr>\n",
       "      <th>23</th>\n",
       "      <td>arrival_time_Evening</td>\n",
       "      <td>479.047518</td>\n",
       "    </tr>\n",
       "    <tr>\n",
       "      <th>24</th>\n",
       "      <td>arrival_time_Late_Night</td>\n",
       "      <td>451.411735</td>\n",
       "    </tr>\n",
       "    <tr>\n",
       "      <th>25</th>\n",
       "      <td>arrival_time_Morning</td>\n",
       "      <td>38.405680</td>\n",
       "    </tr>\n",
       "    <tr>\n",
       "      <th>26</th>\n",
       "      <td>arrival_time_Night</td>\n",
       "      <td>715.901287</td>\n",
       "    </tr>\n",
       "    <tr>\n",
       "      <th>27</th>\n",
       "      <td>destination_city_Bangalore</td>\n",
       "      <td>364.093801</td>\n",
       "    </tr>\n",
       "    <tr>\n",
       "      <th>28</th>\n",
       "      <td>destination_city_Chennai</td>\n",
       "      <td>161.853271</td>\n",
       "    </tr>\n",
       "    <tr>\n",
       "      <th>29</th>\n",
       "      <td>destination_city_Delhi</td>\n",
       "      <td>-1197.696678</td>\n",
       "    </tr>\n",
       "    <tr>\n",
       "      <th>30</th>\n",
       "      <td>destination_city_Hyderabad</td>\n",
       "      <td>-1384.480785</td>\n",
       "    </tr>\n",
       "    <tr>\n",
       "      <th>31</th>\n",
       "      <td>destination_city_Kolkata</td>\n",
       "      <td>1733.892626</td>\n",
       "    </tr>\n",
       "    <tr>\n",
       "      <th>32</th>\n",
       "      <td>destination_city_Mumbai</td>\n",
       "      <td>322.337765</td>\n",
       "    </tr>\n",
       "    <tr>\n",
       "      <th>33</th>\n",
       "      <td>class_Business</td>\n",
       "      <td>22480.455307</td>\n",
       "    </tr>\n",
       "    <tr>\n",
       "      <th>34</th>\n",
       "      <td>class_Economy</td>\n",
       "      <td>-22480.455308</td>\n",
       "    </tr>\n",
       "    <tr>\n",
       "      <th>35</th>\n",
       "      <td>duration</td>\n",
       "      <td>41.471715</td>\n",
       "    </tr>\n",
       "    <tr>\n",
       "      <th>36</th>\n",
       "      <td>days_left</td>\n",
       "      <td>-130.703393</td>\n",
       "    </tr>\n",
       "  </tbody>\n",
       "</table>\n",
       "</div>"
      ],
      "text/plain": [
       "                       Name_coef  Coefficient Values\n",
       "0                airline_AirAsia        -1671.394721\n",
       "1              airline_Air_India        -1582.933862\n",
       "2               airline_GO_FIRST           -8.788667\n",
       "3                 airline_Indigo          388.944464\n",
       "4               airline_SpiceJet          476.270009\n",
       "5                airline_Vistara         2397.902777\n",
       "6          source_city_Bangalore          302.736275\n",
       "7            source_city_Chennai          244.314351\n",
       "8              source_city_Delhi        -1090.105071\n",
       "9          source_city_Hyderabad        -1385.977132\n",
       "10           source_city_Kolkata         1861.587094\n",
       "11            source_city_Mumbai           67.444483\n",
       "12      departure_time_Afternoon         -813.377817\n",
       "13  departure_time_Early_Morning           26.186405\n",
       "14        departure_time_Evening          -74.200437\n",
       "15     departure_time_Late_Night          944.020042\n",
       "16        departure_time_Morning           35.649156\n",
       "17          departure_time_Night         -118.277350\n",
       "18                     stops_one         1872.719085\n",
       "19             stops_two_or_more         3937.720375\n",
       "20                    stops_zero        -5810.439460\n",
       "21        arrival_time_Afternoon         -436.263160\n",
       "22    arrival_time_Early_Morning        -1248.503060\n",
       "23          arrival_time_Evening          479.047518\n",
       "24       arrival_time_Late_Night          451.411735\n",
       "25          arrival_time_Morning           38.405680\n",
       "26            arrival_time_Night          715.901287\n",
       "27    destination_city_Bangalore          364.093801\n",
       "28      destination_city_Chennai          161.853271\n",
       "29        destination_city_Delhi        -1197.696678\n",
       "30    destination_city_Hyderabad        -1384.480785\n",
       "31      destination_city_Kolkata         1733.892626\n",
       "32       destination_city_Mumbai          322.337765\n",
       "33                class_Business        22480.455307\n",
       "34                 class_Economy       -22480.455308\n",
       "35                      duration           41.471715\n",
       "36                     days_left         -130.703393"
      ]
     },
     "execution_count": 657,
     "metadata": {},
     "output_type": "execute_result"
    }
   ],
   "source": [
    "#Dataframe\n",
    "features_importance = pd.DataFrame({'Name_coef': variables_name, 'Coefficient Values': importance})\n",
    "\n",
    "features_importance.head(37)"
   ]
  },
  {
   "cell_type": "markdown",
   "metadata": {},
   "source": [
    "- Airline coefficients Dataframe and the difference between these coefficients"
   ]
  },
  {
   "cell_type": "code",
   "execution_count": 658,
   "metadata": {},
   "outputs": [
    {
     "data": {
      "text/html": [
       "<div>\n",
       "<style scoped>\n",
       "    .dataframe tbody tr th:only-of-type {\n",
       "        vertical-align: middle;\n",
       "    }\n",
       "\n",
       "    .dataframe tbody tr th {\n",
       "        vertical-align: top;\n",
       "    }\n",
       "\n",
       "    .dataframe thead th {\n",
       "        text-align: right;\n",
       "    }\n",
       "</style>\n",
       "<table border=\"1\" class=\"dataframe\">\n",
       "  <thead>\n",
       "    <tr style=\"text-align: right;\">\n",
       "      <th></th>\n",
       "      <th>Name_coef</th>\n",
       "      <th>Coefficient Values</th>\n",
       "    </tr>\n",
       "  </thead>\n",
       "  <tbody>\n",
       "    <tr>\n",
       "      <th>0</th>\n",
       "      <td>airline_AirAsia</td>\n",
       "      <td>-1671.394721</td>\n",
       "    </tr>\n",
       "    <tr>\n",
       "      <th>1</th>\n",
       "      <td>airline_Air_India</td>\n",
       "      <td>-1582.933862</td>\n",
       "    </tr>\n",
       "    <tr>\n",
       "      <th>2</th>\n",
       "      <td>airline_GO_FIRST</td>\n",
       "      <td>-8.788667</td>\n",
       "    </tr>\n",
       "    <tr>\n",
       "      <th>3</th>\n",
       "      <td>airline_Indigo</td>\n",
       "      <td>388.944464</td>\n",
       "    </tr>\n",
       "    <tr>\n",
       "      <th>4</th>\n",
       "      <td>airline_SpiceJet</td>\n",
       "      <td>476.270009</td>\n",
       "    </tr>\n",
       "    <tr>\n",
       "      <th>5</th>\n",
       "      <td>airline_Vistara</td>\n",
       "      <td>2397.902777</td>\n",
       "    </tr>\n",
       "  </tbody>\n",
       "</table>\n",
       "</div>"
      ],
      "text/plain": [
       "           Name_coef  Coefficient Values\n",
       "0    airline_AirAsia        -1671.394721\n",
       "1  airline_Air_India        -1582.933862\n",
       "2   airline_GO_FIRST           -8.788667\n",
       "3     airline_Indigo          388.944464\n",
       "4   airline_SpiceJet          476.270009\n",
       "5    airline_Vistara         2397.902777"
      ]
     },
     "execution_count": 658,
     "metadata": {},
     "output_type": "execute_result"
    }
   ],
   "source": [
    "airline_coef = features_importance.iloc[0:6,:]\n",
    "airline_coef"
   ]
  },
  {
   "cell_type": "code",
   "execution_count": 659,
   "metadata": {},
   "outputs": [],
   "source": [
    "diff_airline_coef = airline_coef['Coefficient Values'].max() - airline_coef['Coefficient Values'].min()"
   ]
  },
  {
   "cell_type": "markdown",
   "metadata": {},
   "source": [
    "- Source city coefficients Dataframe and the difference between these coefficients"
   ]
  },
  {
   "cell_type": "code",
   "execution_count": 660,
   "metadata": {},
   "outputs": [
    {
     "data": {
      "text/html": [
       "<div>\n",
       "<style scoped>\n",
       "    .dataframe tbody tr th:only-of-type {\n",
       "        vertical-align: middle;\n",
       "    }\n",
       "\n",
       "    .dataframe tbody tr th {\n",
       "        vertical-align: top;\n",
       "    }\n",
       "\n",
       "    .dataframe thead th {\n",
       "        text-align: right;\n",
       "    }\n",
       "</style>\n",
       "<table border=\"1\" class=\"dataframe\">\n",
       "  <thead>\n",
       "    <tr style=\"text-align: right;\">\n",
       "      <th></th>\n",
       "      <th>Name_coef</th>\n",
       "      <th>Coefficient Values</th>\n",
       "    </tr>\n",
       "  </thead>\n",
       "  <tbody>\n",
       "    <tr>\n",
       "      <th>6</th>\n",
       "      <td>source_city_Bangalore</td>\n",
       "      <td>302.736275</td>\n",
       "    </tr>\n",
       "    <tr>\n",
       "      <th>7</th>\n",
       "      <td>source_city_Chennai</td>\n",
       "      <td>244.314351</td>\n",
       "    </tr>\n",
       "    <tr>\n",
       "      <th>8</th>\n",
       "      <td>source_city_Delhi</td>\n",
       "      <td>-1090.105071</td>\n",
       "    </tr>\n",
       "    <tr>\n",
       "      <th>9</th>\n",
       "      <td>source_city_Hyderabad</td>\n",
       "      <td>-1385.977132</td>\n",
       "    </tr>\n",
       "    <tr>\n",
       "      <th>10</th>\n",
       "      <td>source_city_Kolkata</td>\n",
       "      <td>1861.587094</td>\n",
       "    </tr>\n",
       "    <tr>\n",
       "      <th>11</th>\n",
       "      <td>source_city_Mumbai</td>\n",
       "      <td>67.444483</td>\n",
       "    </tr>\n",
       "  </tbody>\n",
       "</table>\n",
       "</div>"
      ],
      "text/plain": [
       "                Name_coef  Coefficient Values\n",
       "6   source_city_Bangalore          302.736275\n",
       "7     source_city_Chennai          244.314351\n",
       "8       source_city_Delhi        -1090.105071\n",
       "9   source_city_Hyderabad        -1385.977132\n",
       "10    source_city_Kolkata         1861.587094\n",
       "11     source_city_Mumbai           67.444483"
      ]
     },
     "execution_count": 660,
     "metadata": {},
     "output_type": "execute_result"
    }
   ],
   "source": [
    "soure_city_coef = features_importance.iloc[6:12,:]\n",
    "soure_city_coef"
   ]
  },
  {
   "cell_type": "code",
   "execution_count": 661,
   "metadata": {},
   "outputs": [],
   "source": [
    "diff_source_city_coef = soure_city_coef['Coefficient Values'].max() - soure_city_coef['Coefficient Values'].min()"
   ]
  },
  {
   "cell_type": "markdown",
   "metadata": {},
   "source": [
    "- Departure time coefficients Dataframe and the difference between these coefficients"
   ]
  },
  {
   "cell_type": "code",
   "execution_count": 662,
   "metadata": {},
   "outputs": [
    {
     "data": {
      "text/html": [
       "<div>\n",
       "<style scoped>\n",
       "    .dataframe tbody tr th:only-of-type {\n",
       "        vertical-align: middle;\n",
       "    }\n",
       "\n",
       "    .dataframe tbody tr th {\n",
       "        vertical-align: top;\n",
       "    }\n",
       "\n",
       "    .dataframe thead th {\n",
       "        text-align: right;\n",
       "    }\n",
       "</style>\n",
       "<table border=\"1\" class=\"dataframe\">\n",
       "  <thead>\n",
       "    <tr style=\"text-align: right;\">\n",
       "      <th></th>\n",
       "      <th>Name_coef</th>\n",
       "      <th>Coefficient Values</th>\n",
       "    </tr>\n",
       "  </thead>\n",
       "  <tbody>\n",
       "    <tr>\n",
       "      <th>12</th>\n",
       "      <td>departure_time_Afternoon</td>\n",
       "      <td>-813.377817</td>\n",
       "    </tr>\n",
       "    <tr>\n",
       "      <th>13</th>\n",
       "      <td>departure_time_Early_Morning</td>\n",
       "      <td>26.186405</td>\n",
       "    </tr>\n",
       "    <tr>\n",
       "      <th>14</th>\n",
       "      <td>departure_time_Evening</td>\n",
       "      <td>-74.200437</td>\n",
       "    </tr>\n",
       "    <tr>\n",
       "      <th>15</th>\n",
       "      <td>departure_time_Late_Night</td>\n",
       "      <td>944.020042</td>\n",
       "    </tr>\n",
       "    <tr>\n",
       "      <th>16</th>\n",
       "      <td>departure_time_Morning</td>\n",
       "      <td>35.649156</td>\n",
       "    </tr>\n",
       "    <tr>\n",
       "      <th>17</th>\n",
       "      <td>departure_time_Night</td>\n",
       "      <td>-118.277350</td>\n",
       "    </tr>\n",
       "  </tbody>\n",
       "</table>\n",
       "</div>"
      ],
      "text/plain": [
       "                       Name_coef  Coefficient Values\n",
       "12      departure_time_Afternoon         -813.377817\n",
       "13  departure_time_Early_Morning           26.186405\n",
       "14        departure_time_Evening          -74.200437\n",
       "15     departure_time_Late_Night          944.020042\n",
       "16        departure_time_Morning           35.649156\n",
       "17          departure_time_Night         -118.277350"
      ]
     },
     "execution_count": 662,
     "metadata": {},
     "output_type": "execute_result"
    }
   ],
   "source": [
    "departure_time_coef = features_importance.iloc[12:18,:]\n",
    "departure_time_coef"
   ]
  },
  {
   "cell_type": "code",
   "execution_count": 663,
   "metadata": {},
   "outputs": [],
   "source": [
    "diff_departure_time_coef = departure_time_coef['Coefficient Values'].max() - departure_time_coef['Coefficient Values'].min()"
   ]
  },
  {
   "cell_type": "markdown",
   "metadata": {},
   "source": [
    "- Stops coefficients Dataframe and the difference between these coefficients"
   ]
  },
  {
   "cell_type": "code",
   "execution_count": 664,
   "metadata": {},
   "outputs": [
    {
     "data": {
      "text/html": [
       "<div>\n",
       "<style scoped>\n",
       "    .dataframe tbody tr th:only-of-type {\n",
       "        vertical-align: middle;\n",
       "    }\n",
       "\n",
       "    .dataframe tbody tr th {\n",
       "        vertical-align: top;\n",
       "    }\n",
       "\n",
       "    .dataframe thead th {\n",
       "        text-align: right;\n",
       "    }\n",
       "</style>\n",
       "<table border=\"1\" class=\"dataframe\">\n",
       "  <thead>\n",
       "    <tr style=\"text-align: right;\">\n",
       "      <th></th>\n",
       "      <th>Name_coef</th>\n",
       "      <th>Coefficient Values</th>\n",
       "    </tr>\n",
       "  </thead>\n",
       "  <tbody>\n",
       "    <tr>\n",
       "      <th>18</th>\n",
       "      <td>stops_one</td>\n",
       "      <td>1872.719085</td>\n",
       "    </tr>\n",
       "    <tr>\n",
       "      <th>19</th>\n",
       "      <td>stops_two_or_more</td>\n",
       "      <td>3937.720375</td>\n",
       "    </tr>\n",
       "    <tr>\n",
       "      <th>20</th>\n",
       "      <td>stops_zero</td>\n",
       "      <td>-5810.439460</td>\n",
       "    </tr>\n",
       "  </tbody>\n",
       "</table>\n",
       "</div>"
      ],
      "text/plain": [
       "            Name_coef  Coefficient Values\n",
       "18          stops_one         1872.719085\n",
       "19  stops_two_or_more         3937.720375\n",
       "20         stops_zero        -5810.439460"
      ]
     },
     "execution_count": 664,
     "metadata": {},
     "output_type": "execute_result"
    }
   ],
   "source": [
    "stops_coef = features_importance.iloc[18:21,:]\n",
    "stops_coef"
   ]
  },
  {
   "cell_type": "code",
   "execution_count": 665,
   "metadata": {},
   "outputs": [],
   "source": [
    "diff_stops_coef = stops_coef['Coefficient Values'].max() - stops_coef['Coefficient Values'].min()"
   ]
  },
  {
   "cell_type": "markdown",
   "metadata": {},
   "source": [
    "- Arrival time coefficients Dataframe and the difference between these coefficients"
   ]
  },
  {
   "cell_type": "code",
   "execution_count": 666,
   "metadata": {},
   "outputs": [
    {
     "data": {
      "text/html": [
       "<div>\n",
       "<style scoped>\n",
       "    .dataframe tbody tr th:only-of-type {\n",
       "        vertical-align: middle;\n",
       "    }\n",
       "\n",
       "    .dataframe tbody tr th {\n",
       "        vertical-align: top;\n",
       "    }\n",
       "\n",
       "    .dataframe thead th {\n",
       "        text-align: right;\n",
       "    }\n",
       "</style>\n",
       "<table border=\"1\" class=\"dataframe\">\n",
       "  <thead>\n",
       "    <tr style=\"text-align: right;\">\n",
       "      <th></th>\n",
       "      <th>Name_coef</th>\n",
       "      <th>Coefficient Values</th>\n",
       "    </tr>\n",
       "  </thead>\n",
       "  <tbody>\n",
       "    <tr>\n",
       "      <th>21</th>\n",
       "      <td>arrival_time_Afternoon</td>\n",
       "      <td>-436.263160</td>\n",
       "    </tr>\n",
       "    <tr>\n",
       "      <th>22</th>\n",
       "      <td>arrival_time_Early_Morning</td>\n",
       "      <td>-1248.503060</td>\n",
       "    </tr>\n",
       "    <tr>\n",
       "      <th>23</th>\n",
       "      <td>arrival_time_Evening</td>\n",
       "      <td>479.047518</td>\n",
       "    </tr>\n",
       "    <tr>\n",
       "      <th>24</th>\n",
       "      <td>arrival_time_Late_Night</td>\n",
       "      <td>451.411735</td>\n",
       "    </tr>\n",
       "    <tr>\n",
       "      <th>25</th>\n",
       "      <td>arrival_time_Morning</td>\n",
       "      <td>38.405680</td>\n",
       "    </tr>\n",
       "    <tr>\n",
       "      <th>26</th>\n",
       "      <td>arrival_time_Night</td>\n",
       "      <td>715.901287</td>\n",
       "    </tr>\n",
       "  </tbody>\n",
       "</table>\n",
       "</div>"
      ],
      "text/plain": [
       "                     Name_coef  Coefficient Values\n",
       "21      arrival_time_Afternoon         -436.263160\n",
       "22  arrival_time_Early_Morning        -1248.503060\n",
       "23        arrival_time_Evening          479.047518\n",
       "24     arrival_time_Late_Night          451.411735\n",
       "25        arrival_time_Morning           38.405680\n",
       "26          arrival_time_Night          715.901287"
      ]
     },
     "execution_count": 666,
     "metadata": {},
     "output_type": "execute_result"
    }
   ],
   "source": [
    "arrival_time_coef = features_importance.iloc[21:27,:]\n",
    "arrival_time_coef"
   ]
  },
  {
   "cell_type": "code",
   "execution_count": 667,
   "metadata": {},
   "outputs": [],
   "source": [
    "diff_arrival_time_coef = arrival_time_coef['Coefficient Values'].max() - arrival_time_coef['Coefficient Values'].min()"
   ]
  },
  {
   "cell_type": "markdown",
   "metadata": {},
   "source": [
    "- Destination city coefficients Dataframe and the difference between these coefficients"
   ]
  },
  {
   "cell_type": "code",
   "execution_count": 668,
   "metadata": {},
   "outputs": [
    {
     "data": {
      "text/html": [
       "<div>\n",
       "<style scoped>\n",
       "    .dataframe tbody tr th:only-of-type {\n",
       "        vertical-align: middle;\n",
       "    }\n",
       "\n",
       "    .dataframe tbody tr th {\n",
       "        vertical-align: top;\n",
       "    }\n",
       "\n",
       "    .dataframe thead th {\n",
       "        text-align: right;\n",
       "    }\n",
       "</style>\n",
       "<table border=\"1\" class=\"dataframe\">\n",
       "  <thead>\n",
       "    <tr style=\"text-align: right;\">\n",
       "      <th></th>\n",
       "      <th>Name_coef</th>\n",
       "      <th>Coefficient Values</th>\n",
       "    </tr>\n",
       "  </thead>\n",
       "  <tbody>\n",
       "    <tr>\n",
       "      <th>27</th>\n",
       "      <td>destination_city_Bangalore</td>\n",
       "      <td>364.093801</td>\n",
       "    </tr>\n",
       "    <tr>\n",
       "      <th>28</th>\n",
       "      <td>destination_city_Chennai</td>\n",
       "      <td>161.853271</td>\n",
       "    </tr>\n",
       "    <tr>\n",
       "      <th>29</th>\n",
       "      <td>destination_city_Delhi</td>\n",
       "      <td>-1197.696678</td>\n",
       "    </tr>\n",
       "    <tr>\n",
       "      <th>30</th>\n",
       "      <td>destination_city_Hyderabad</td>\n",
       "      <td>-1384.480785</td>\n",
       "    </tr>\n",
       "    <tr>\n",
       "      <th>31</th>\n",
       "      <td>destination_city_Kolkata</td>\n",
       "      <td>1733.892626</td>\n",
       "    </tr>\n",
       "    <tr>\n",
       "      <th>32</th>\n",
       "      <td>destination_city_Mumbai</td>\n",
       "      <td>322.337765</td>\n",
       "    </tr>\n",
       "  </tbody>\n",
       "</table>\n",
       "</div>"
      ],
      "text/plain": [
       "                     Name_coef  Coefficient Values\n",
       "27  destination_city_Bangalore          364.093801\n",
       "28    destination_city_Chennai          161.853271\n",
       "29      destination_city_Delhi        -1197.696678\n",
       "30  destination_city_Hyderabad        -1384.480785\n",
       "31    destination_city_Kolkata         1733.892626\n",
       "32     destination_city_Mumbai          322.337765"
      ]
     },
     "execution_count": 668,
     "metadata": {},
     "output_type": "execute_result"
    }
   ],
   "source": [
    "destination_city_coef = features_importance.iloc[27:33,:]\n",
    "destination_city_coef"
   ]
  },
  {
   "cell_type": "code",
   "execution_count": 669,
   "metadata": {},
   "outputs": [],
   "source": [
    "diff_destination_city_coef = destination_city_coef['Coefficient Values'].max() - destination_city_coef['Coefficient Values'].min()"
   ]
  },
  {
   "cell_type": "markdown",
   "metadata": {},
   "source": [
    "- Class coefficients Dataframe and the difference between these coefficients"
   ]
  },
  {
   "cell_type": "code",
   "execution_count": 670,
   "metadata": {},
   "outputs": [
    {
     "data": {
      "text/html": [
       "<div>\n",
       "<style scoped>\n",
       "    .dataframe tbody tr th:only-of-type {\n",
       "        vertical-align: middle;\n",
       "    }\n",
       "\n",
       "    .dataframe tbody tr th {\n",
       "        vertical-align: top;\n",
       "    }\n",
       "\n",
       "    .dataframe thead th {\n",
       "        text-align: right;\n",
       "    }\n",
       "</style>\n",
       "<table border=\"1\" class=\"dataframe\">\n",
       "  <thead>\n",
       "    <tr style=\"text-align: right;\">\n",
       "      <th></th>\n",
       "      <th>Name_coef</th>\n",
       "      <th>Coefficient Values</th>\n",
       "    </tr>\n",
       "  </thead>\n",
       "  <tbody>\n",
       "    <tr>\n",
       "      <th>33</th>\n",
       "      <td>class_Business</td>\n",
       "      <td>22480.455307</td>\n",
       "    </tr>\n",
       "    <tr>\n",
       "      <th>34</th>\n",
       "      <td>class_Economy</td>\n",
       "      <td>-22480.455308</td>\n",
       "    </tr>\n",
       "  </tbody>\n",
       "</table>\n",
       "</div>"
      ],
      "text/plain": [
       "         Name_coef  Coefficient Values\n",
       "33  class_Business        22480.455307\n",
       "34   class_Economy       -22480.455308"
      ]
     },
     "execution_count": 670,
     "metadata": {},
     "output_type": "execute_result"
    }
   ],
   "source": [
    "class_coef = features_importance.iloc[33:35,:]\n",
    "class_coef"
   ]
  },
  {
   "cell_type": "code",
   "execution_count": 671,
   "metadata": {},
   "outputs": [],
   "source": [
    "diff_class_coef = class_coef['Coefficient Values'].max() - class_coef['Coefficient Values'].min()"
   ]
  },
  {
   "cell_type": "code",
   "execution_count": 672,
   "metadata": {},
   "outputs": [],
   "source": [
    "diff_coefficients = {'diff_airline_coef':diff_airline_coef, \n",
    "                     'diff_source_city_coef':diff_source_city_coef,\n",
    "                     'diff_departure_time_coef': diff_departure_time_coef,\n",
    "                     'diff_stops_coef': diff_stops_coef,\n",
    "                     'diff_arrival_time_coef':diff_arrival_time_coef,\n",
    "                     'diff_destination_city_coef': diff_destination_city_coef,\n",
    "                     'diff_class_coef': diff_class_coef}"
   ]
  },
  {
   "cell_type": "code",
   "execution_count": 673,
   "metadata": {},
   "outputs": [
    {
     "data": {
      "text/plain": [
       "[('diff_class_coef', 44960.91061505112),\n",
       " ('diff_stops_coef', 9748.15983491535),\n",
       " ('diff_airline_coef', 4069.297498804583),\n",
       " ('diff_source_city_coef', 3247.5642263027053),\n",
       " ('diff_destination_city_coef', 3118.373411839978),\n",
       " ('diff_arrival_time_coef', 1964.4043475057401),\n",
       " ('diff_departure_time_coef', 1757.3978594116504)]"
      ]
     },
     "execution_count": 673,
     "metadata": {},
     "output_type": "execute_result"
    }
   ],
   "source": [
    "sorted(diff_coefficients.items(), reverse=True, key=operator.itemgetter(1))"
   ]
  },
  {
   "cell_type": "markdown",
   "metadata": {},
   "source": [
    "Sendo assim, vemos que os 3 principais atributos categóricos que possuem maior peso na predição são **class, stops e airline**."
   ]
  },
  {
   "cell_type": "code",
   "execution_count": 674,
   "metadata": {},
   "outputs": [
    {
     "data": {
      "text/html": [
       "<div>\n",
       "<style scoped>\n",
       "    .dataframe tbody tr th:only-of-type {\n",
       "        vertical-align: middle;\n",
       "    }\n",
       "\n",
       "    .dataframe tbody tr th {\n",
       "        vertical-align: top;\n",
       "    }\n",
       "\n",
       "    .dataframe thead th {\n",
       "        text-align: right;\n",
       "    }\n",
       "</style>\n",
       "<table border=\"1\" class=\"dataframe\">\n",
       "  <thead>\n",
       "    <tr style=\"text-align: right;\">\n",
       "      <th></th>\n",
       "      <th>Name_coef</th>\n",
       "      <th>Coefficient Values</th>\n",
       "    </tr>\n",
       "  </thead>\n",
       "  <tbody>\n",
       "    <tr>\n",
       "      <th>35</th>\n",
       "      <td>duration</td>\n",
       "      <td>41.471715</td>\n",
       "    </tr>\n",
       "    <tr>\n",
       "      <th>36</th>\n",
       "      <td>days_left</td>\n",
       "      <td>-130.703393</td>\n",
       "    </tr>\n",
       "  </tbody>\n",
       "</table>\n",
       "</div>"
      ],
      "text/plain": [
       "    Name_coef  Coefficient Values\n",
       "35   duration           41.471715\n",
       "36  days_left         -130.703393"
      ]
     },
     "execution_count": 674,
     "metadata": {},
     "output_type": "execute_result"
    }
   ],
   "source": [
    "#Para os atributos numéricos\n",
    "numerical_coef = features_importance.iloc[-2:,:]\n",
    "numerical_coef"
   ]
  },
  {
   "cell_type": "markdown",
   "metadata": {},
   "source": [
    "Numerical feature which have more influence in the prices: **days_left*"
   ]
  },
  {
   "cell_type": "markdown",
   "metadata": {},
   "source": [
    "## Comentários gerais"
   ]
  },
  {
   "cell_type": "markdown",
   "metadata": {},
   "source": [
    "- O modelo proposto (model_f3), utilizando regressão polinomial nos valores numéricos, seguido de uma padronização e por último uma regularização apresentou os melhores valores de predição, mesmo que as diferenças fossem sutis ao comparar com modelos sem padronização e regularização (mesmo com as diferenças sutis decidi mantes o modelo com menor taxa de erro)\n",
    "\n",
    "- Apesar da taxa de erro de aproximadamente 20%, a predição ainda possuiu alguns outliers ao final (observável no gráfico 'Predicted Prices x Real Prices').\n",
    "\n",
    "- Foi determinado que os atributos categóricos que mais influenciam na previsão são 'class', 'stops' e 'airline' (respectivamente), enquanto o atributo numérico que mais influencia na previsão é 'days_left'."
   ]
  },
  {
   "cell_type": "markdown",
   "metadata": {},
   "source": [
    "- Para o trabalho, tem-se que foi bem legal ver o desenvolvimento dao próprio projeto enquanto iamos evoluindo e os modelos/predições iam tornando-se mais precisos e interessantes. \n",
    "\n",
    "- Um segundo ponto que gostei bastante também foram os desafios novos, não vistos em aula ou que não constavam nos notebooks de aula, como na 7-c, em que tinhamos que escolher os melhores atributos. Tal ponto, mesmo que mais complicado, fez com que o desenvolvimento fosse maior, visto que demandou mais pesquisa e, consequentemente, maior nível de conhecimento sobre o que estava sendo feito."
   ]
  }
 ],
 "metadata": {
  "kernelspec": {
   "display_name": "Python 3.10.5 64-bit",
   "language": "python",
   "name": "python3"
  },
  "language_info": {
   "codemirror_mode": {
    "name": "ipython",
    "version": 3
   },
   "file_extension": ".py",
   "mimetype": "text/x-python",
   "name": "python",
   "nbconvert_exporter": "python",
   "pygments_lexer": "ipython3",
   "version": "3.10.5"
  },
  "orig_nbformat": 4,
  "vscode": {
   "interpreter": {
    "hash": "37083a178839ddb6837eca99e3841ef7be6dad5dc50c6d19829e2187d61ddd5d"
   }
  }
 },
 "nbformat": 4,
 "nbformat_minor": 2
}
